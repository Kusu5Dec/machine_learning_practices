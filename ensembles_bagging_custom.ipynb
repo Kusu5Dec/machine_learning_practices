{
 "cells": [
  {
   "cell_type": "code",
   "execution_count": 1,
   "metadata": {},
   "outputs": [],
   "source": [
    "from sklearn.datasets import make_regression\n",
    "from sklearn.model_selection import train_test_split\n",
    "\n",
    "X,y=make_regression(n_samples=1000,n_features=10,noise=0.1,random_state=1)"
   ]
  },
  {
   "cell_type": "code",
   "execution_count": 2,
   "metadata": {},
   "outputs": [],
   "source": [
    "X_train,X_test,y_train,y_test,=train_test_split(X,y,test_size=0.2,random_state=1)\n"
   ]
  },
  {
   "cell_type": "code",
   "execution_count": 20,
   "metadata": {},
   "outputs": [
    {
     "data": {
      "text/plain": [
       "array([[-0.16604512,  0.06316756,  1.23568599, ...,  0.26835848,\n",
       "        -1.25584144, -0.93910407],\n",
       "       [-0.56436767,  1.46864774, -0.31896788, ...,  0.50303589,\n",
       "        -0.62480697, -0.12229598],\n",
       "       [ 1.86647138, -0.4189379 , -1.95210529, ...,  0.45112294,\n",
       "        -1.40232915, -0.6949209 ],\n",
       "       ...,\n",
       "       [-0.41302931,  1.83471763,  2.13782807, ..., -1.75592564,\n",
       "        -0.785534  ,  0.7147896 ],\n",
       "       [ 1.16467116, -1.3836786 , -0.13369387, ...,  0.24979247,\n",
       "         0.78478919, -1.15751684],\n",
       "       [ 1.8470306 , -0.37099898,  0.49360323, ...,  0.24500045,\n",
       "         0.69209304,  1.05035235]])"
      ]
     },
     "execution_count": 20,
     "metadata": {},
     "output_type": "execute_result"
    }
   ],
   "source": [
    "X_train"
   ]
  },
  {
   "cell_type": "code",
   "execution_count": 21,
   "metadata": {},
   "outputs": [
    {
     "data": {
      "text/plain": [
       "((800, 10), (200, 10))"
      ]
     },
     "execution_count": 21,
     "metadata": {},
     "output_type": "execute_result"
    }
   ],
   "source": [
    "X_train.shape,X_test.shape"
   ]
  },
  {
   "cell_type": "code",
   "execution_count": 23,
   "metadata": {},
   "outputs": [],
   "source": [
    "\n",
    "from sklearn.linear_model import LinearRegression\n",
    "from sklearn.svm import SVR\n",
    "from sklearn.tree import DecisionTreeRegressor\n"
   ]
  },
  {
   "cell_type": "code",
   "execution_count": 24,
   "metadata": {},
   "outputs": [],
   "source": [
    "lr=LinearRegression()\n",
    "svm=SVR(kernel=\"linear\")\n",
    "dt=DecisionTreeRegressor()"
   ]
  },
  {
   "cell_type": "code",
   "execution_count": 25,
   "metadata": {},
   "outputs": [],
   "source": [
    "from sklearn.ensemble import VotingRegressor\n",
    "ensembles_regresssor=VotingRegressor(estimators=[('mlr',lr),(\"dtr \",dt),(\"svm\",SVR)])"
   ]
  },
  {
   "cell_type": "code",
   "execution_count": 33,
   "metadata": {},
   "outputs": [
    {
     "data": {
      "text/html": [
       "<style>#sk-container-id-6 {color: black;}#sk-container-id-6 pre{padding: 0;}#sk-container-id-6 div.sk-toggleable {background-color: white;}#sk-container-id-6 label.sk-toggleable__label {cursor: pointer;display: block;width: 100%;margin-bottom: 0;padding: 0.3em;box-sizing: border-box;text-align: center;}#sk-container-id-6 label.sk-toggleable__label-arrow:before {content: \"▸\";float: left;margin-right: 0.25em;color: #696969;}#sk-container-id-6 label.sk-toggleable__label-arrow:hover:before {color: black;}#sk-container-id-6 div.sk-estimator:hover label.sk-toggleable__label-arrow:before {color: black;}#sk-container-id-6 div.sk-toggleable__content {max-height: 0;max-width: 0;overflow: hidden;text-align: left;background-color: #f0f8ff;}#sk-container-id-6 div.sk-toggleable__content pre {margin: 0.2em;color: black;border-radius: 0.25em;background-color: #f0f8ff;}#sk-container-id-6 input.sk-toggleable__control:checked~div.sk-toggleable__content {max-height: 200px;max-width: 100%;overflow: auto;}#sk-container-id-6 input.sk-toggleable__control:checked~label.sk-toggleable__label-arrow:before {content: \"▾\";}#sk-container-id-6 div.sk-estimator input.sk-toggleable__control:checked~label.sk-toggleable__label {background-color: #d4ebff;}#sk-container-id-6 div.sk-label input.sk-toggleable__control:checked~label.sk-toggleable__label {background-color: #d4ebff;}#sk-container-id-6 input.sk-hidden--visually {border: 0;clip: rect(1px 1px 1px 1px);clip: rect(1px, 1px, 1px, 1px);height: 1px;margin: -1px;overflow: hidden;padding: 0;position: absolute;width: 1px;}#sk-container-id-6 div.sk-estimator {font-family: monospace;background-color: #f0f8ff;border: 1px dotted black;border-radius: 0.25em;box-sizing: border-box;margin-bottom: 0.5em;}#sk-container-id-6 div.sk-estimator:hover {background-color: #d4ebff;}#sk-container-id-6 div.sk-parallel-item::after {content: \"\";width: 100%;border-bottom: 1px solid gray;flex-grow: 1;}#sk-container-id-6 div.sk-label:hover label.sk-toggleable__label {background-color: #d4ebff;}#sk-container-id-6 div.sk-serial::before {content: \"\";position: absolute;border-left: 1px solid gray;box-sizing: border-box;top: 0;bottom: 0;left: 50%;z-index: 0;}#sk-container-id-6 div.sk-serial {display: flex;flex-direction: column;align-items: center;background-color: white;padding-right: 0.2em;padding-left: 0.2em;position: relative;}#sk-container-id-6 div.sk-item {position: relative;z-index: 1;}#sk-container-id-6 div.sk-parallel {display: flex;align-items: stretch;justify-content: center;background-color: white;position: relative;}#sk-container-id-6 div.sk-item::before, #sk-container-id-6 div.sk-parallel-item::before {content: \"\";position: absolute;border-left: 1px solid gray;box-sizing: border-box;top: 0;bottom: 0;left: 50%;z-index: -1;}#sk-container-id-6 div.sk-parallel-item {display: flex;flex-direction: column;z-index: 1;position: relative;background-color: white;}#sk-container-id-6 div.sk-parallel-item:first-child::after {align-self: flex-end;width: 50%;}#sk-container-id-6 div.sk-parallel-item:last-child::after {align-self: flex-start;width: 50%;}#sk-container-id-6 div.sk-parallel-item:only-child::after {width: 0;}#sk-container-id-6 div.sk-dashed-wrapped {border: 1px dashed gray;margin: 0 0.4em 0.5em 0.4em;box-sizing: border-box;padding-bottom: 0.4em;background-color: white;}#sk-container-id-6 div.sk-label label {font-family: monospace;font-weight: bold;display: inline-block;line-height: 1.2em;}#sk-container-id-6 div.sk-label-container {text-align: center;}#sk-container-id-6 div.sk-container {/* jupyter's `normalize.less` sets `[hidden] { display: none; }` but bootstrap.min.css set `[hidden] { display: none !important; }` so we also need the `!important` here to be able to override the default hidden behavior on the sphinx rendered scikit-learn.org. See: https://github.com/scikit-learn/scikit-learn/issues/21755 */display: inline-block !important;position: relative;}#sk-container-id-6 div.sk-text-repr-fallback {display: none;}</style><div id=\"sk-container-id-6\" class=\"sk-top-container\"><div class=\"sk-text-repr-fallback\"><pre>VotingRegressor(estimators=[(&#x27;mlr&#x27;, LinearRegression()),\n",
       "                            (&#x27;dtr &#x27;, DecisionTreeRegressor()),\n",
       "                            (&#x27;svm&#x27;, &lt;class &#x27;sklearn.svm._classes.SVR&#x27;&gt;)])</pre><b>In a Jupyter environment, please rerun this cell to show the HTML representation or trust the notebook. <br />On GitHub, the HTML representation is unable to render, please try loading this page with nbviewer.org.</b></div><div class=\"sk-container\" hidden><div class=\"sk-item sk-dashed-wrapped\"><div class=\"sk-label-container\"><div class=\"sk-label sk-toggleable\"><input class=\"sk-toggleable__control sk-hidden--visually\" id=\"sk-estimator-id-21\" type=\"checkbox\" ><label for=\"sk-estimator-id-21\" class=\"sk-toggleable__label sk-toggleable__label-arrow\">VotingRegressor</label><div class=\"sk-toggleable__content\"><pre>VotingRegressor(estimators=[(&#x27;mlr&#x27;, LinearRegression()),\n",
       "                            (&#x27;dtr &#x27;, DecisionTreeRegressor()),\n",
       "                            (&#x27;svm&#x27;, &lt;class &#x27;sklearn.svm._classes.SVR&#x27;&gt;)])</pre></div></div></div><div class=\"sk-parallel\"><div class=\"sk-parallel-item\"><div class=\"sk-item\"><div class=\"sk-label-container\"><div class=\"sk-label sk-toggleable\"><label>mlr</label></div></div><div class=\"sk-serial\"><div class=\"sk-item\"><div class=\"sk-estimator sk-toggleable\"><input class=\"sk-toggleable__control sk-hidden--visually\" id=\"sk-estimator-id-22\" type=\"checkbox\" ><label for=\"sk-estimator-id-22\" class=\"sk-toggleable__label sk-toggleable__label-arrow\">LinearRegression</label><div class=\"sk-toggleable__content\"><pre>LinearRegression()</pre></div></div></div></div></div></div><div class=\"sk-parallel-item\"><div class=\"sk-item\"><div class=\"sk-label-container\"><div class=\"sk-label sk-toggleable\"><label>dtr </label></div></div><div class=\"sk-serial\"><div class=\"sk-item\"><div class=\"sk-estimator sk-toggleable\"><input class=\"sk-toggleable__control sk-hidden--visually\" id=\"sk-estimator-id-23\" type=\"checkbox\" ><label for=\"sk-estimator-id-23\" class=\"sk-toggleable__label sk-toggleable__label-arrow\">DecisionTreeRegressor</label><div class=\"sk-toggleable__content\"><pre>DecisionTreeRegressor()</pre></div></div></div></div></div></div><div class=\"sk-parallel-item\"><div class=\"sk-item\"><div class=\"sk-label-container\"><div class=\"sk-label sk-toggleable\"><label>svm</label></div></div><div class=\"sk-serial\"><div class=\"sk-item\"><div class=\"sk-estimator sk-toggleable\"><input class=\"sk-toggleable__control sk-hidden--visually\" id=\"sk-estimator-id-24\" type=\"checkbox\" ><label for=\"sk-estimator-id-24\" class=\"sk-toggleable__label sk-toggleable__label-arrow\">ABCMeta</label><div class=\"sk-toggleable__content\"><pre>&lt;class &#x27;sklearn.svm._classes.SVR&#x27;&gt;</pre></div></div></div></div></div></div></div></div></div></div>"
      ],
      "text/plain": [
       "VotingRegressor(estimators=[('mlr', LinearRegression()),\n",
       "                            ('dtr ', DecisionTreeRegressor()),\n",
       "                            ('svm', <class 'sklearn.svm._classes.SVR'>)])"
      ]
     },
     "execution_count": 33,
     "metadata": {},
     "output_type": "execute_result"
    }
   ],
   "source": [
    "ensembles_regresssor"
   ]
  },
  {
   "cell_type": "code",
   "execution_count": 34,
   "metadata": {},
   "outputs": [],
   "source": [
    "from sklearn.ensemble import RandomForestRegressor\n"
   ]
  },
  {
   "cell_type": "code",
   "execution_count": 35,
   "metadata": {},
   "outputs": [],
   "source": [
    "ensemble_regressor = RandomForestRegressor(n_estimators=100, random_state=42)\n"
   ]
  },
  {
   "cell_type": "code",
   "execution_count": 36,
   "metadata": {},
   "outputs": [
    {
     "data": {
      "text/html": [
       "<style>#sk-container-id-7 {color: black;}#sk-container-id-7 pre{padding: 0;}#sk-container-id-7 div.sk-toggleable {background-color: white;}#sk-container-id-7 label.sk-toggleable__label {cursor: pointer;display: block;width: 100%;margin-bottom: 0;padding: 0.3em;box-sizing: border-box;text-align: center;}#sk-container-id-7 label.sk-toggleable__label-arrow:before {content: \"▸\";float: left;margin-right: 0.25em;color: #696969;}#sk-container-id-7 label.sk-toggleable__label-arrow:hover:before {color: black;}#sk-container-id-7 div.sk-estimator:hover label.sk-toggleable__label-arrow:before {color: black;}#sk-container-id-7 div.sk-toggleable__content {max-height: 0;max-width: 0;overflow: hidden;text-align: left;background-color: #f0f8ff;}#sk-container-id-7 div.sk-toggleable__content pre {margin: 0.2em;color: black;border-radius: 0.25em;background-color: #f0f8ff;}#sk-container-id-7 input.sk-toggleable__control:checked~div.sk-toggleable__content {max-height: 200px;max-width: 100%;overflow: auto;}#sk-container-id-7 input.sk-toggleable__control:checked~label.sk-toggleable__label-arrow:before {content: \"▾\";}#sk-container-id-7 div.sk-estimator input.sk-toggleable__control:checked~label.sk-toggleable__label {background-color: #d4ebff;}#sk-container-id-7 div.sk-label input.sk-toggleable__control:checked~label.sk-toggleable__label {background-color: #d4ebff;}#sk-container-id-7 input.sk-hidden--visually {border: 0;clip: rect(1px 1px 1px 1px);clip: rect(1px, 1px, 1px, 1px);height: 1px;margin: -1px;overflow: hidden;padding: 0;position: absolute;width: 1px;}#sk-container-id-7 div.sk-estimator {font-family: monospace;background-color: #f0f8ff;border: 1px dotted black;border-radius: 0.25em;box-sizing: border-box;margin-bottom: 0.5em;}#sk-container-id-7 div.sk-estimator:hover {background-color: #d4ebff;}#sk-container-id-7 div.sk-parallel-item::after {content: \"\";width: 100%;border-bottom: 1px solid gray;flex-grow: 1;}#sk-container-id-7 div.sk-label:hover label.sk-toggleable__label {background-color: #d4ebff;}#sk-container-id-7 div.sk-serial::before {content: \"\";position: absolute;border-left: 1px solid gray;box-sizing: border-box;top: 0;bottom: 0;left: 50%;z-index: 0;}#sk-container-id-7 div.sk-serial {display: flex;flex-direction: column;align-items: center;background-color: white;padding-right: 0.2em;padding-left: 0.2em;position: relative;}#sk-container-id-7 div.sk-item {position: relative;z-index: 1;}#sk-container-id-7 div.sk-parallel {display: flex;align-items: stretch;justify-content: center;background-color: white;position: relative;}#sk-container-id-7 div.sk-item::before, #sk-container-id-7 div.sk-parallel-item::before {content: \"\";position: absolute;border-left: 1px solid gray;box-sizing: border-box;top: 0;bottom: 0;left: 50%;z-index: -1;}#sk-container-id-7 div.sk-parallel-item {display: flex;flex-direction: column;z-index: 1;position: relative;background-color: white;}#sk-container-id-7 div.sk-parallel-item:first-child::after {align-self: flex-end;width: 50%;}#sk-container-id-7 div.sk-parallel-item:last-child::after {align-self: flex-start;width: 50%;}#sk-container-id-7 div.sk-parallel-item:only-child::after {width: 0;}#sk-container-id-7 div.sk-dashed-wrapped {border: 1px dashed gray;margin: 0 0.4em 0.5em 0.4em;box-sizing: border-box;padding-bottom: 0.4em;background-color: white;}#sk-container-id-7 div.sk-label label {font-family: monospace;font-weight: bold;display: inline-block;line-height: 1.2em;}#sk-container-id-7 div.sk-label-container {text-align: center;}#sk-container-id-7 div.sk-container {/* jupyter's `normalize.less` sets `[hidden] { display: none; }` but bootstrap.min.css set `[hidden] { display: none !important; }` so we also need the `!important` here to be able to override the default hidden behavior on the sphinx rendered scikit-learn.org. See: https://github.com/scikit-learn/scikit-learn/issues/21755 */display: inline-block !important;position: relative;}#sk-container-id-7 div.sk-text-repr-fallback {display: none;}</style><div id=\"sk-container-id-7\" class=\"sk-top-container\"><div class=\"sk-text-repr-fallback\"><pre>RandomForestRegressor(random_state=42)</pre><b>In a Jupyter environment, please rerun this cell to show the HTML representation or trust the notebook. <br />On GitHub, the HTML representation is unable to render, please try loading this page with nbviewer.org.</b></div><div class=\"sk-container\" hidden><div class=\"sk-item\"><div class=\"sk-estimator sk-toggleable\"><input class=\"sk-toggleable__control sk-hidden--visually\" id=\"sk-estimator-id-25\" type=\"checkbox\" checked><label for=\"sk-estimator-id-25\" class=\"sk-toggleable__label sk-toggleable__label-arrow\">RandomForestRegressor</label><div class=\"sk-toggleable__content\"><pre>RandomForestRegressor(random_state=42)</pre></div></div></div></div></div>"
      ],
      "text/plain": [
       "RandomForestRegressor(random_state=42)"
      ]
     },
     "execution_count": 36,
     "metadata": {},
     "output_type": "execute_result"
    }
   ],
   "source": [
    "ensemble_regressor.fit(X_train,y_train)"
   ]
  },
  {
   "cell_type": "code",
   "execution_count": 37,
   "metadata": {},
   "outputs": [
    {
     "data": {
      "text/plain": [
       "array([ 7.75394547e+01,  9.98033571e+01, -1.91475042e+01, -3.21315193e+01,\n",
       "        3.77591901e+02,  2.10155475e+02, -1.09441885e+01, -2.79682349e+01,\n",
       "       -1.15318198e+02, -6.78643341e+01, -1.12609124e+02, -1.68184889e+00,\n",
       "       -8.43825550e+01, -4.87279777e+01, -3.00144259e+02, -1.53697107e+02,\n",
       "       -1.64611688e+02, -1.52200846e+02, -5.78014207e-01, -7.68909967e+01,\n",
       "       -2.25941698e+01, -1.15080414e+02,  2.65308740e+02, -1.49549289e+02,\n",
       "        2.77460392e+01,  1.82094171e+02,  2.15956583e+02,  9.03697545e+01,\n",
       "       -1.76614643e+01,  1.12852318e+02,  3.57582516e+01,  1.69292217e+02,\n",
       "        7.64610372e+01,  1.43141955e+02,  9.46969676e+01,  9.02352794e+01,\n",
       "        6.02122703e+01, -3.06046738e+02, -1.46915893e+02, -1.11876087e+02,\n",
       "       -5.49626514e-01, -3.64929771e+01,  6.26554620e+01, -1.36417080e+02,\n",
       "        8.20415631e+01,  7.05990471e+01,  2.16223203e+02, -5.89662844e+01,\n",
       "        1.20759135e+02, -2.29660455e+02,  1.46054529e+02,  2.50167491e+02,\n",
       "       -1.55607818e+02,  1.18111084e+02, -4.12451522e+01,  5.17094795e+01,\n",
       "        1.38240254e+02,  1.14348241e+02,  4.09601683e+01,  4.10265698e+01,\n",
       "        9.94576129e+01, -3.13753812e+02,  2.55597366e+02,  1.14150888e+02,\n",
       "        5.90227373e+01, -1.53446144e+02, -8.85279263e+01,  2.27692467e+01,\n",
       "       -1.28638369e+02,  1.04848741e+02,  3.03010075e+02,  4.17504171e+01,\n",
       "       -1.34491680e+01, -1.12670151e+02,  1.79007521e+02, -1.65420412e+01,\n",
       "       -9.73252405e+01,  7.19571263e+01,  5.21636542e+01, -5.43573702e+01,\n",
       "       -7.89421108e+01,  1.47382617e+02, -1.20878593e+02,  7.58125008e+01,\n",
       "       -8.99916196e+01,  1.83069530e+02,  5.63796421e+01, -1.14956078e+02,\n",
       "        2.51429492e+01, -1.28019461e+02, -2.31857959e+02, -1.81444082e+02,\n",
       "       -3.64044615e-01,  1.76579948e+02,  1.73369271e+02,  5.73952996e+01,\n",
       "        2.50114675e+02, -1.25714106e+02,  9.67813657e+01, -1.26330277e+02,\n",
       "       -1.23320543e+02,  1.75392007e+02,  1.11281411e+02, -7.76793451e+00,\n",
       "       -2.27973889e+02,  1.48932171e+02, -8.48554944e+01, -8.56214235e+01,\n",
       "        6.87402131e+01,  3.60791356e+01, -1.25058388e+02, -7.11292362e+01,\n",
       "       -2.36634671e+01,  1.92818391e+01,  3.40070167e+02, -1.58911011e+01,\n",
       "       -1.34580536e+02,  2.47762430e+01, -1.10127318e+02, -1.81310826e+02,\n",
       "       -1.30167444e+02,  1.24550171e+02, -1.37450758e+02,  1.48031382e+02,\n",
       "       -1.56041195e+02,  8.57322235e+01, -2.23145901e+02, -7.62472698e+01,\n",
       "        1.60406880e+02, -1.04323886e+02,  3.33922251e+01,  8.15719840e+01,\n",
       "        8.76412009e+01, -3.06412882e+02, -7.87858345e+00,  6.68938186e+01,\n",
       "        1.35509463e+02, -1.15543439e+02,  4.16164053e+01,  1.08041836e+02,\n",
       "        5.61022433e+01,  1.18677246e+02,  2.64488793e+02,  1.43573484e+02,\n",
       "       -1.20171815e+02, -1.30569027e+02,  1.10377201e+02,  7.73727065e+01,\n",
       "       -8.92743537e+00,  2.37089727e+02,  2.91763252e+02,  1.41456260e+02,\n",
       "       -1.90655610e+01, -1.06093147e+02, -6.55521428e+01,  9.59523384e+01,\n",
       "        8.07362621e+01,  4.32779065e+01, -9.90410821e+01, -2.56292089e+02,\n",
       "        2.90647433e+02, -8.29316165e+01, -1.95947401e+02, -1.42357792e+02,\n",
       "       -3.91358495e+01, -1.16875059e+02, -5.99383244e+01, -5.16433088e+01,\n",
       "       -1.45984149e+02,  7.97636958e+01, -2.17515632e+02,  3.49363116e+00,\n",
       "       -3.55528902e+01, -4.16751327e+01, -8.33114074e+01, -6.79257477e+01,\n",
       "       -1.17215942e+02,  9.73391539e+01, -5.61004330e+01,  3.46232492e+01,\n",
       "       -4.83194397e+00,  2.14377625e+02,  1.67676011e+02,  3.28684951e+01,\n",
       "        4.19256350e+01, -8.29083901e+01,  4.84910429e+01, -7.60292629e+01,\n",
       "        1.62161498e+02, -1.55807586e+02,  1.75715235e+02,  2.55314301e+01,\n",
       "        1.55183458e+02, -9.83324815e+00,  4.15595775e+00,  1.28590045e+02,\n",
       "        2.09045762e+01,  1.79379462e+02, -1.35679014e+02, -1.20579744e+02])"
      ]
     },
     "execution_count": 37,
     "metadata": {},
     "output_type": "execute_result"
    }
   ],
   "source": [
    "ensemble_regressor.predict(X_test)"
   ]
  }
 ],
 "metadata": {
  "kernelspec": {
   "display_name": "base",
   "language": "python",
   "name": "python3"
  },
  "language_info": {
   "codemirror_mode": {
    "name": "ipython",
    "version": 3
   },
   "file_extension": ".py",
   "mimetype": "text/x-python",
   "name": "python",
   "nbconvert_exporter": "python",
   "pygments_lexer": "ipython3",
   "version": "3.11.5"
  }
 },
 "nbformat": 4,
 "nbformat_minor": 2
}
