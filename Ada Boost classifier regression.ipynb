{
 "cells": [
  {
   "cell_type": "code",
   "execution_count": 2,
   "metadata": {},
   "outputs": [],
   "source": [
    "from sklearn.datasets import make_classification\n",
    "from sklearn.model_selection import train_test_split\n",
    "from sklearn.ensemble import AdaBoostClassifier,AdaBoostRegressor\n",
    "from sklearn.metrics import accuracy_score,classification_report,confusion_matrix,r2_score\n",
    "\n",
    "\n",
    "import warnings\n",
    "warnings.filterwarnings('ignore')"
   ]
  },
  {
   "cell_type": "code",
   "execution_count": 3,
   "metadata": {},
   "outputs": [],
   "source": [
    "X,y=make_classification(n_samples=1000,n_features=20,n_classes=2,random_state=1)"
   ]
  },
  {
   "cell_type": "code",
   "execution_count": 4,
   "metadata": {},
   "outputs": [],
   "source": [
    "X_train,X_test,y_train,y_test,=train_test_split(X,y,test_size=0.3,random_state=1)\n"
   ]
  },
  {
   "cell_type": "code",
   "execution_count": 5,
   "metadata": {},
   "outputs": [
    {
     "data": {
      "text/html": [
       "<style>#sk-container-id-1 {color: black;}#sk-container-id-1 pre{padding: 0;}#sk-container-id-1 div.sk-toggleable {background-color: white;}#sk-container-id-1 label.sk-toggleable__label {cursor: pointer;display: block;width: 100%;margin-bottom: 0;padding: 0.3em;box-sizing: border-box;text-align: center;}#sk-container-id-1 label.sk-toggleable__label-arrow:before {content: \"▸\";float: left;margin-right: 0.25em;color: #696969;}#sk-container-id-1 label.sk-toggleable__label-arrow:hover:before {color: black;}#sk-container-id-1 div.sk-estimator:hover label.sk-toggleable__label-arrow:before {color: black;}#sk-container-id-1 div.sk-toggleable__content {max-height: 0;max-width: 0;overflow: hidden;text-align: left;background-color: #f0f8ff;}#sk-container-id-1 div.sk-toggleable__content pre {margin: 0.2em;color: black;border-radius: 0.25em;background-color: #f0f8ff;}#sk-container-id-1 input.sk-toggleable__control:checked~div.sk-toggleable__content {max-height: 200px;max-width: 100%;overflow: auto;}#sk-container-id-1 input.sk-toggleable__control:checked~label.sk-toggleable__label-arrow:before {content: \"▾\";}#sk-container-id-1 div.sk-estimator input.sk-toggleable__control:checked~label.sk-toggleable__label {background-color: #d4ebff;}#sk-container-id-1 div.sk-label input.sk-toggleable__control:checked~label.sk-toggleable__label {background-color: #d4ebff;}#sk-container-id-1 input.sk-hidden--visually {border: 0;clip: rect(1px 1px 1px 1px);clip: rect(1px, 1px, 1px, 1px);height: 1px;margin: -1px;overflow: hidden;padding: 0;position: absolute;width: 1px;}#sk-container-id-1 div.sk-estimator {font-family: monospace;background-color: #f0f8ff;border: 1px dotted black;border-radius: 0.25em;box-sizing: border-box;margin-bottom: 0.5em;}#sk-container-id-1 div.sk-estimator:hover {background-color: #d4ebff;}#sk-container-id-1 div.sk-parallel-item::after {content: \"\";width: 100%;border-bottom: 1px solid gray;flex-grow: 1;}#sk-container-id-1 div.sk-label:hover label.sk-toggleable__label {background-color: #d4ebff;}#sk-container-id-1 div.sk-serial::before {content: \"\";position: absolute;border-left: 1px solid gray;box-sizing: border-box;top: 0;bottom: 0;left: 50%;z-index: 0;}#sk-container-id-1 div.sk-serial {display: flex;flex-direction: column;align-items: center;background-color: white;padding-right: 0.2em;padding-left: 0.2em;position: relative;}#sk-container-id-1 div.sk-item {position: relative;z-index: 1;}#sk-container-id-1 div.sk-parallel {display: flex;align-items: stretch;justify-content: center;background-color: white;position: relative;}#sk-container-id-1 div.sk-item::before, #sk-container-id-1 div.sk-parallel-item::before {content: \"\";position: absolute;border-left: 1px solid gray;box-sizing: border-box;top: 0;bottom: 0;left: 50%;z-index: -1;}#sk-container-id-1 div.sk-parallel-item {display: flex;flex-direction: column;z-index: 1;position: relative;background-color: white;}#sk-container-id-1 div.sk-parallel-item:first-child::after {align-self: flex-end;width: 50%;}#sk-container-id-1 div.sk-parallel-item:last-child::after {align-self: flex-start;width: 50%;}#sk-container-id-1 div.sk-parallel-item:only-child::after {width: 0;}#sk-container-id-1 div.sk-dashed-wrapped {border: 1px dashed gray;margin: 0 0.4em 0.5em 0.4em;box-sizing: border-box;padding-bottom: 0.4em;background-color: white;}#sk-container-id-1 div.sk-label label {font-family: monospace;font-weight: bold;display: inline-block;line-height: 1.2em;}#sk-container-id-1 div.sk-label-container {text-align: center;}#sk-container-id-1 div.sk-container {/* jupyter's `normalize.less` sets `[hidden] { display: none; }` but bootstrap.min.css set `[hidden] { display: none !important; }` so we also need the `!important` here to be able to override the default hidden behavior on the sphinx rendered scikit-learn.org. See: https://github.com/scikit-learn/scikit-learn/issues/21755 */display: inline-block !important;position: relative;}#sk-container-id-1 div.sk-text-repr-fallback {display: none;}</style><div id=\"sk-container-id-1\" class=\"sk-top-container\"><div class=\"sk-text-repr-fallback\"><pre>AdaBoostClassifier()</pre><b>In a Jupyter environment, please rerun this cell to show the HTML representation or trust the notebook. <br />On GitHub, the HTML representation is unable to render, please try loading this page with nbviewer.org.</b></div><div class=\"sk-container\" hidden><div class=\"sk-item\"><div class=\"sk-estimator sk-toggleable\"><input class=\"sk-toggleable__control sk-hidden--visually\" id=\"sk-estimator-id-1\" type=\"checkbox\" checked><label for=\"sk-estimator-id-1\" class=\"sk-toggleable__label sk-toggleable__label-arrow\">AdaBoostClassifier</label><div class=\"sk-toggleable__content\"><pre>AdaBoostClassifier()</pre></div></div></div></div></div>"
      ],
      "text/plain": [
       "AdaBoostClassifier()"
      ]
     },
     "execution_count": 5,
     "metadata": {},
     "output_type": "execute_result"
    }
   ],
   "source": [
    "classifier=AdaBoostClassifier()\n",
    "classifier.fit(X_train,y_train)"
   ]
  },
  {
   "cell_type": "code",
   "execution_count": 7,
   "metadata": {},
   "outputs": [
    {
     "name": "stdout",
     "output_type": "stream",
     "text": [
      "acc 0.8333333333333334\n",
      "cls               precision    recall  f1-score   support\n",
      "\n",
      "           0       0.81      0.84      0.82       139\n",
      "           1       0.86      0.83      0.84       161\n",
      "\n",
      "    accuracy                           0.83       300\n",
      "   macro avg       0.83      0.83      0.83       300\n",
      "weighted avg       0.83      0.83      0.83       300\n",
      "\n",
      "con [[117  22]\n",
      " [ 28 133]]\n"
     ]
    }
   ],
   "source": [
    "y_pred=classifier.predict(X_test)\n",
    "print(\"acc\",accuracy_score(y_test,y_pred))\n",
    "print(\"cls\",classification_report(y_test,y_pred))\n",
    "print(\"con\",confusion_matrix(y_test,y_pred))\n"
   ]
  },
  {
   "cell_type": "code",
   "execution_count": 8,
   "metadata": {},
   "outputs": [
    {
     "data": {
      "text/html": [
       "<style>#sk-container-id-2 {color: black;}#sk-container-id-2 pre{padding: 0;}#sk-container-id-2 div.sk-toggleable {background-color: white;}#sk-container-id-2 label.sk-toggleable__label {cursor: pointer;display: block;width: 100%;margin-bottom: 0;padding: 0.3em;box-sizing: border-box;text-align: center;}#sk-container-id-2 label.sk-toggleable__label-arrow:before {content: \"▸\";float: left;margin-right: 0.25em;color: #696969;}#sk-container-id-2 label.sk-toggleable__label-arrow:hover:before {color: black;}#sk-container-id-2 div.sk-estimator:hover label.sk-toggleable__label-arrow:before {color: black;}#sk-container-id-2 div.sk-toggleable__content {max-height: 0;max-width: 0;overflow: hidden;text-align: left;background-color: #f0f8ff;}#sk-container-id-2 div.sk-toggleable__content pre {margin: 0.2em;color: black;border-radius: 0.25em;background-color: #f0f8ff;}#sk-container-id-2 input.sk-toggleable__control:checked~div.sk-toggleable__content {max-height: 200px;max-width: 100%;overflow: auto;}#sk-container-id-2 input.sk-toggleable__control:checked~label.sk-toggleable__label-arrow:before {content: \"▾\";}#sk-container-id-2 div.sk-estimator input.sk-toggleable__control:checked~label.sk-toggleable__label {background-color: #d4ebff;}#sk-container-id-2 div.sk-label input.sk-toggleable__control:checked~label.sk-toggleable__label {background-color: #d4ebff;}#sk-container-id-2 input.sk-hidden--visually {border: 0;clip: rect(1px 1px 1px 1px);clip: rect(1px, 1px, 1px, 1px);height: 1px;margin: -1px;overflow: hidden;padding: 0;position: absolute;width: 1px;}#sk-container-id-2 div.sk-estimator {font-family: monospace;background-color: #f0f8ff;border: 1px dotted black;border-radius: 0.25em;box-sizing: border-box;margin-bottom: 0.5em;}#sk-container-id-2 div.sk-estimator:hover {background-color: #d4ebff;}#sk-container-id-2 div.sk-parallel-item::after {content: \"\";width: 100%;border-bottom: 1px solid gray;flex-grow: 1;}#sk-container-id-2 div.sk-label:hover label.sk-toggleable__label {background-color: #d4ebff;}#sk-container-id-2 div.sk-serial::before {content: \"\";position: absolute;border-left: 1px solid gray;box-sizing: border-box;top: 0;bottom: 0;left: 50%;z-index: 0;}#sk-container-id-2 div.sk-serial {display: flex;flex-direction: column;align-items: center;background-color: white;padding-right: 0.2em;padding-left: 0.2em;position: relative;}#sk-container-id-2 div.sk-item {position: relative;z-index: 1;}#sk-container-id-2 div.sk-parallel {display: flex;align-items: stretch;justify-content: center;background-color: white;position: relative;}#sk-container-id-2 div.sk-item::before, #sk-container-id-2 div.sk-parallel-item::before {content: \"\";position: absolute;border-left: 1px solid gray;box-sizing: border-box;top: 0;bottom: 0;left: 50%;z-index: -1;}#sk-container-id-2 div.sk-parallel-item {display: flex;flex-direction: column;z-index: 1;position: relative;background-color: white;}#sk-container-id-2 div.sk-parallel-item:first-child::after {align-self: flex-end;width: 50%;}#sk-container-id-2 div.sk-parallel-item:last-child::after {align-self: flex-start;width: 50%;}#sk-container-id-2 div.sk-parallel-item:only-child::after {width: 0;}#sk-container-id-2 div.sk-dashed-wrapped {border: 1px dashed gray;margin: 0 0.4em 0.5em 0.4em;box-sizing: border-box;padding-bottom: 0.4em;background-color: white;}#sk-container-id-2 div.sk-label label {font-family: monospace;font-weight: bold;display: inline-block;line-height: 1.2em;}#sk-container-id-2 div.sk-label-container {text-align: center;}#sk-container-id-2 div.sk-container {/* jupyter's `normalize.less` sets `[hidden] { display: none; }` but bootstrap.min.css set `[hidden] { display: none !important; }` so we also need the `!important` here to be able to override the default hidden behavior on the sphinx rendered scikit-learn.org. See: https://github.com/scikit-learn/scikit-learn/issues/21755 */display: inline-block !important;position: relative;}#sk-container-id-2 div.sk-text-repr-fallback {display: none;}</style><div id=\"sk-container-id-2\" class=\"sk-top-container\"><div class=\"sk-text-repr-fallback\"><pre>GridSearchCV(cv=5, estimator=AdaBoostClassifier(),\n",
       "             param_grid={&#x27;algrothim&#x27;: [&#x27;SAMME.R&#x27;, &#x27;SAMME&#x27;],\n",
       "                         &#x27;learning_rate&#x27;: [0.001, 0.1, 1, 1.5, 2, 2.5],\n",
       "                         &#x27;n_estimators&#x27;: [50, 100, 200]},\n",
       "             verbose=3)</pre><b>In a Jupyter environment, please rerun this cell to show the HTML representation or trust the notebook. <br />On GitHub, the HTML representation is unable to render, please try loading this page with nbviewer.org.</b></div><div class=\"sk-container\" hidden><div class=\"sk-item sk-dashed-wrapped\"><div class=\"sk-label-container\"><div class=\"sk-label sk-toggleable\"><input class=\"sk-toggleable__control sk-hidden--visually\" id=\"sk-estimator-id-2\" type=\"checkbox\" ><label for=\"sk-estimator-id-2\" class=\"sk-toggleable__label sk-toggleable__label-arrow\">GridSearchCV</label><div class=\"sk-toggleable__content\"><pre>GridSearchCV(cv=5, estimator=AdaBoostClassifier(),\n",
       "             param_grid={&#x27;algrothim&#x27;: [&#x27;SAMME.R&#x27;, &#x27;SAMME&#x27;],\n",
       "                         &#x27;learning_rate&#x27;: [0.001, 0.1, 1, 1.5, 2, 2.5],\n",
       "                         &#x27;n_estimators&#x27;: [50, 100, 200]},\n",
       "             verbose=3)</pre></div></div></div><div class=\"sk-parallel\"><div class=\"sk-parallel-item\"><div class=\"sk-item\"><div class=\"sk-label-container\"><div class=\"sk-label sk-toggleable\"><input class=\"sk-toggleable__control sk-hidden--visually\" id=\"sk-estimator-id-3\" type=\"checkbox\" ><label for=\"sk-estimator-id-3\" class=\"sk-toggleable__label sk-toggleable__label-arrow\">estimator: AdaBoostClassifier</label><div class=\"sk-toggleable__content\"><pre>AdaBoostClassifier()</pre></div></div></div><div class=\"sk-serial\"><div class=\"sk-item\"><div class=\"sk-estimator sk-toggleable\"><input class=\"sk-toggleable__control sk-hidden--visually\" id=\"sk-estimator-id-4\" type=\"checkbox\" ><label for=\"sk-estimator-id-4\" class=\"sk-toggleable__label sk-toggleable__label-arrow\">AdaBoostClassifier</label><div class=\"sk-toggleable__content\"><pre>AdaBoostClassifier()</pre></div></div></div></div></div></div></div></div></div></div>"
      ],
      "text/plain": [
       "GridSearchCV(cv=5, estimator=AdaBoostClassifier(),\n",
       "             param_grid={'algrothim': ['SAMME.R', 'SAMME'],\n",
       "                         'learning_rate': [0.001, 0.1, 1, 1.5, 2, 2.5],\n",
       "                         'n_estimators': [50, 100, 200]},\n",
       "             verbose=3)"
      ]
     },
     "execution_count": 8,
     "metadata": {},
     "output_type": "execute_result"
    }
   ],
   "source": [
    "from sklearn.model_selection import GridSearchCV\n",
    "params_grid={\"n_estimators\":[50,100,200],\n",
    "             'learning_rate':[0.001,0.1,1,1.5,2,2.5],\n",
    "             'algrothim':[\"SAMME.R\",\"SAMME\"]}\n",
    "\n",
    "\n",
    "ada=AdaBoostClassifier()\n",
    "clf=GridSearchCV(estimator=ada,param_grid=params_grid,cv=5,verbose=3)\n",
    "clf\n"
   ]
  },
  {
   "cell_type": "code",
   "execution_count": 13,
   "metadata": {},
   "outputs": [],
   "source": [
    "#ada boost regreesor\n",
    "\n",
    "from sklearn.datasets import make_regression\n",
    "from sklearn.model_selection import train_test_split\n",
    "from sklearn.ensemble import AdaBoostRegressor\n",
    "from sklearn.metrics import r2_score\n"
   ]
  },
  {
   "cell_type": "code",
   "execution_count": 15,
   "metadata": {},
   "outputs": [],
   "source": [
    "X,y=make_regression(n_samples=1000,n_features=20,noise=10,random_state=1)"
   ]
  },
  {
   "cell_type": "code",
   "execution_count": 16,
   "metadata": {},
   "outputs": [],
   "source": [
    "X_train,X_test,y_train,y_test,=train_test_split(X,y,test_size=0.33,random_state=1)\n"
   ]
  },
  {
   "cell_type": "code",
   "execution_count": 18,
   "metadata": {},
   "outputs": [
    {
     "data": {
      "text/html": [
       "<style>#sk-container-id-3 {color: black;}#sk-container-id-3 pre{padding: 0;}#sk-container-id-3 div.sk-toggleable {background-color: white;}#sk-container-id-3 label.sk-toggleable__label {cursor: pointer;display: block;width: 100%;margin-bottom: 0;padding: 0.3em;box-sizing: border-box;text-align: center;}#sk-container-id-3 label.sk-toggleable__label-arrow:before {content: \"▸\";float: left;margin-right: 0.25em;color: #696969;}#sk-container-id-3 label.sk-toggleable__label-arrow:hover:before {color: black;}#sk-container-id-3 div.sk-estimator:hover label.sk-toggleable__label-arrow:before {color: black;}#sk-container-id-3 div.sk-toggleable__content {max-height: 0;max-width: 0;overflow: hidden;text-align: left;background-color: #f0f8ff;}#sk-container-id-3 div.sk-toggleable__content pre {margin: 0.2em;color: black;border-radius: 0.25em;background-color: #f0f8ff;}#sk-container-id-3 input.sk-toggleable__control:checked~div.sk-toggleable__content {max-height: 200px;max-width: 100%;overflow: auto;}#sk-container-id-3 input.sk-toggleable__control:checked~label.sk-toggleable__label-arrow:before {content: \"▾\";}#sk-container-id-3 div.sk-estimator input.sk-toggleable__control:checked~label.sk-toggleable__label {background-color: #d4ebff;}#sk-container-id-3 div.sk-label input.sk-toggleable__control:checked~label.sk-toggleable__label {background-color: #d4ebff;}#sk-container-id-3 input.sk-hidden--visually {border: 0;clip: rect(1px 1px 1px 1px);clip: rect(1px, 1px, 1px, 1px);height: 1px;margin: -1px;overflow: hidden;padding: 0;position: absolute;width: 1px;}#sk-container-id-3 div.sk-estimator {font-family: monospace;background-color: #f0f8ff;border: 1px dotted black;border-radius: 0.25em;box-sizing: border-box;margin-bottom: 0.5em;}#sk-container-id-3 div.sk-estimator:hover {background-color: #d4ebff;}#sk-container-id-3 div.sk-parallel-item::after {content: \"\";width: 100%;border-bottom: 1px solid gray;flex-grow: 1;}#sk-container-id-3 div.sk-label:hover label.sk-toggleable__label {background-color: #d4ebff;}#sk-container-id-3 div.sk-serial::before {content: \"\";position: absolute;border-left: 1px solid gray;box-sizing: border-box;top: 0;bottom: 0;left: 50%;z-index: 0;}#sk-container-id-3 div.sk-serial {display: flex;flex-direction: column;align-items: center;background-color: white;padding-right: 0.2em;padding-left: 0.2em;position: relative;}#sk-container-id-3 div.sk-item {position: relative;z-index: 1;}#sk-container-id-3 div.sk-parallel {display: flex;align-items: stretch;justify-content: center;background-color: white;position: relative;}#sk-container-id-3 div.sk-item::before, #sk-container-id-3 div.sk-parallel-item::before {content: \"\";position: absolute;border-left: 1px solid gray;box-sizing: border-box;top: 0;bottom: 0;left: 50%;z-index: -1;}#sk-container-id-3 div.sk-parallel-item {display: flex;flex-direction: column;z-index: 1;position: relative;background-color: white;}#sk-container-id-3 div.sk-parallel-item:first-child::after {align-self: flex-end;width: 50%;}#sk-container-id-3 div.sk-parallel-item:last-child::after {align-self: flex-start;width: 50%;}#sk-container-id-3 div.sk-parallel-item:only-child::after {width: 0;}#sk-container-id-3 div.sk-dashed-wrapped {border: 1px dashed gray;margin: 0 0.4em 0.5em 0.4em;box-sizing: border-box;padding-bottom: 0.4em;background-color: white;}#sk-container-id-3 div.sk-label label {font-family: monospace;font-weight: bold;display: inline-block;line-height: 1.2em;}#sk-container-id-3 div.sk-label-container {text-align: center;}#sk-container-id-3 div.sk-container {/* jupyter's `normalize.less` sets `[hidden] { display: none; }` but bootstrap.min.css set `[hidden] { display: none !important; }` so we also need the `!important` here to be able to override the default hidden behavior on the sphinx rendered scikit-learn.org. See: https://github.com/scikit-learn/scikit-learn/issues/21755 */display: inline-block !important;position: relative;}#sk-container-id-3 div.sk-text-repr-fallback {display: none;}</style><div id=\"sk-container-id-3\" class=\"sk-top-container\"><div class=\"sk-text-repr-fallback\"><pre>AdaBoostRegressor()</pre><b>In a Jupyter environment, please rerun this cell to show the HTML representation or trust the notebook. <br />On GitHub, the HTML representation is unable to render, please try loading this page with nbviewer.org.</b></div><div class=\"sk-container\" hidden><div class=\"sk-item\"><div class=\"sk-estimator sk-toggleable\"><input class=\"sk-toggleable__control sk-hidden--visually\" id=\"sk-estimator-id-5\" type=\"checkbox\" checked><label for=\"sk-estimator-id-5\" class=\"sk-toggleable__label sk-toggleable__label-arrow\">AdaBoostRegressor</label><div class=\"sk-toggleable__content\"><pre>AdaBoostRegressor()</pre></div></div></div></div></div>"
      ],
      "text/plain": [
       "AdaBoostRegressor()"
      ]
     },
     "execution_count": 18,
     "metadata": {},
     "output_type": "execute_result"
    }
   ],
   "source": [
    "reg=AdaBoostRegressor()\n",
    "reg"
   ]
  },
  {
   "cell_type": "code",
   "execution_count": 19,
   "metadata": {},
   "outputs": [
    {
     "data": {
      "text/html": [
       "<style>#sk-container-id-4 {color: black;}#sk-container-id-4 pre{padding: 0;}#sk-container-id-4 div.sk-toggleable {background-color: white;}#sk-container-id-4 label.sk-toggleable__label {cursor: pointer;display: block;width: 100%;margin-bottom: 0;padding: 0.3em;box-sizing: border-box;text-align: center;}#sk-container-id-4 label.sk-toggleable__label-arrow:before {content: \"▸\";float: left;margin-right: 0.25em;color: #696969;}#sk-container-id-4 label.sk-toggleable__label-arrow:hover:before {color: black;}#sk-container-id-4 div.sk-estimator:hover label.sk-toggleable__label-arrow:before {color: black;}#sk-container-id-4 div.sk-toggleable__content {max-height: 0;max-width: 0;overflow: hidden;text-align: left;background-color: #f0f8ff;}#sk-container-id-4 div.sk-toggleable__content pre {margin: 0.2em;color: black;border-radius: 0.25em;background-color: #f0f8ff;}#sk-container-id-4 input.sk-toggleable__control:checked~div.sk-toggleable__content {max-height: 200px;max-width: 100%;overflow: auto;}#sk-container-id-4 input.sk-toggleable__control:checked~label.sk-toggleable__label-arrow:before {content: \"▾\";}#sk-container-id-4 div.sk-estimator input.sk-toggleable__control:checked~label.sk-toggleable__label {background-color: #d4ebff;}#sk-container-id-4 div.sk-label input.sk-toggleable__control:checked~label.sk-toggleable__label {background-color: #d4ebff;}#sk-container-id-4 input.sk-hidden--visually {border: 0;clip: rect(1px 1px 1px 1px);clip: rect(1px, 1px, 1px, 1px);height: 1px;margin: -1px;overflow: hidden;padding: 0;position: absolute;width: 1px;}#sk-container-id-4 div.sk-estimator {font-family: monospace;background-color: #f0f8ff;border: 1px dotted black;border-radius: 0.25em;box-sizing: border-box;margin-bottom: 0.5em;}#sk-container-id-4 div.sk-estimator:hover {background-color: #d4ebff;}#sk-container-id-4 div.sk-parallel-item::after {content: \"\";width: 100%;border-bottom: 1px solid gray;flex-grow: 1;}#sk-container-id-4 div.sk-label:hover label.sk-toggleable__label {background-color: #d4ebff;}#sk-container-id-4 div.sk-serial::before {content: \"\";position: absolute;border-left: 1px solid gray;box-sizing: border-box;top: 0;bottom: 0;left: 50%;z-index: 0;}#sk-container-id-4 div.sk-serial {display: flex;flex-direction: column;align-items: center;background-color: white;padding-right: 0.2em;padding-left: 0.2em;position: relative;}#sk-container-id-4 div.sk-item {position: relative;z-index: 1;}#sk-container-id-4 div.sk-parallel {display: flex;align-items: stretch;justify-content: center;background-color: white;position: relative;}#sk-container-id-4 div.sk-item::before, #sk-container-id-4 div.sk-parallel-item::before {content: \"\";position: absolute;border-left: 1px solid gray;box-sizing: border-box;top: 0;bottom: 0;left: 50%;z-index: -1;}#sk-container-id-4 div.sk-parallel-item {display: flex;flex-direction: column;z-index: 1;position: relative;background-color: white;}#sk-container-id-4 div.sk-parallel-item:first-child::after {align-self: flex-end;width: 50%;}#sk-container-id-4 div.sk-parallel-item:last-child::after {align-self: flex-start;width: 50%;}#sk-container-id-4 div.sk-parallel-item:only-child::after {width: 0;}#sk-container-id-4 div.sk-dashed-wrapped {border: 1px dashed gray;margin: 0 0.4em 0.5em 0.4em;box-sizing: border-box;padding-bottom: 0.4em;background-color: white;}#sk-container-id-4 div.sk-label label {font-family: monospace;font-weight: bold;display: inline-block;line-height: 1.2em;}#sk-container-id-4 div.sk-label-container {text-align: center;}#sk-container-id-4 div.sk-container {/* jupyter's `normalize.less` sets `[hidden] { display: none; }` but bootstrap.min.css set `[hidden] { display: none !important; }` so we also need the `!important` here to be able to override the default hidden behavior on the sphinx rendered scikit-learn.org. See: https://github.com/scikit-learn/scikit-learn/issues/21755 */display: inline-block !important;position: relative;}#sk-container-id-4 div.sk-text-repr-fallback {display: none;}</style><div id=\"sk-container-id-4\" class=\"sk-top-container\"><div class=\"sk-text-repr-fallback\"><pre>AdaBoostRegressor()</pre><b>In a Jupyter environment, please rerun this cell to show the HTML representation or trust the notebook. <br />On GitHub, the HTML representation is unable to render, please try loading this page with nbviewer.org.</b></div><div class=\"sk-container\" hidden><div class=\"sk-item\"><div class=\"sk-estimator sk-toggleable\"><input class=\"sk-toggleable__control sk-hidden--visually\" id=\"sk-estimator-id-6\" type=\"checkbox\" checked><label for=\"sk-estimator-id-6\" class=\"sk-toggleable__label sk-toggleable__label-arrow\">AdaBoostRegressor</label><div class=\"sk-toggleable__content\"><pre>AdaBoostRegressor()</pre></div></div></div></div></div>"
      ],
      "text/plain": [
       "AdaBoostRegressor()"
      ]
     },
     "execution_count": 19,
     "metadata": {},
     "output_type": "execute_result"
    }
   ],
   "source": [
    "reg.fit(X_train,y_train)"
   ]
  },
  {
   "cell_type": "code",
   "execution_count": 20,
   "metadata": {},
   "outputs": [
    {
     "data": {
      "text/plain": [
       "0.7428713631288363"
      ]
     },
     "execution_count": 20,
     "metadata": {},
     "output_type": "execute_result"
    }
   ],
   "source": [
    "y_pred=reg.predict(X_test)\n",
    "r2_score(y_test,y_pred)"
   ]
  },
  {
   "cell_type": "code",
   "execution_count": 23,
   "metadata": {},
   "outputs": [
    {
     "data": {
      "text/html": [
       "<style>#sk-container-id-6 {color: black;}#sk-container-id-6 pre{padding: 0;}#sk-container-id-6 div.sk-toggleable {background-color: white;}#sk-container-id-6 label.sk-toggleable__label {cursor: pointer;display: block;width: 100%;margin-bottom: 0;padding: 0.3em;box-sizing: border-box;text-align: center;}#sk-container-id-6 label.sk-toggleable__label-arrow:before {content: \"▸\";float: left;margin-right: 0.25em;color: #696969;}#sk-container-id-6 label.sk-toggleable__label-arrow:hover:before {color: black;}#sk-container-id-6 div.sk-estimator:hover label.sk-toggleable__label-arrow:before {color: black;}#sk-container-id-6 div.sk-toggleable__content {max-height: 0;max-width: 0;overflow: hidden;text-align: left;background-color: #f0f8ff;}#sk-container-id-6 div.sk-toggleable__content pre {margin: 0.2em;color: black;border-radius: 0.25em;background-color: #f0f8ff;}#sk-container-id-6 input.sk-toggleable__control:checked~div.sk-toggleable__content {max-height: 200px;max-width: 100%;overflow: auto;}#sk-container-id-6 input.sk-toggleable__control:checked~label.sk-toggleable__label-arrow:before {content: \"▾\";}#sk-container-id-6 div.sk-estimator input.sk-toggleable__control:checked~label.sk-toggleable__label {background-color: #d4ebff;}#sk-container-id-6 div.sk-label input.sk-toggleable__control:checked~label.sk-toggleable__label {background-color: #d4ebff;}#sk-container-id-6 input.sk-hidden--visually {border: 0;clip: rect(1px 1px 1px 1px);clip: rect(1px, 1px, 1px, 1px);height: 1px;margin: -1px;overflow: hidden;padding: 0;position: absolute;width: 1px;}#sk-container-id-6 div.sk-estimator {font-family: monospace;background-color: #f0f8ff;border: 1px dotted black;border-radius: 0.25em;box-sizing: border-box;margin-bottom: 0.5em;}#sk-container-id-6 div.sk-estimator:hover {background-color: #d4ebff;}#sk-container-id-6 div.sk-parallel-item::after {content: \"\";width: 100%;border-bottom: 1px solid gray;flex-grow: 1;}#sk-container-id-6 div.sk-label:hover label.sk-toggleable__label {background-color: #d4ebff;}#sk-container-id-6 div.sk-serial::before {content: \"\";position: absolute;border-left: 1px solid gray;box-sizing: border-box;top: 0;bottom: 0;left: 50%;z-index: 0;}#sk-container-id-6 div.sk-serial {display: flex;flex-direction: column;align-items: center;background-color: white;padding-right: 0.2em;padding-left: 0.2em;position: relative;}#sk-container-id-6 div.sk-item {position: relative;z-index: 1;}#sk-container-id-6 div.sk-parallel {display: flex;align-items: stretch;justify-content: center;background-color: white;position: relative;}#sk-container-id-6 div.sk-item::before, #sk-container-id-6 div.sk-parallel-item::before {content: \"\";position: absolute;border-left: 1px solid gray;box-sizing: border-box;top: 0;bottom: 0;left: 50%;z-index: -1;}#sk-container-id-6 div.sk-parallel-item {display: flex;flex-direction: column;z-index: 1;position: relative;background-color: white;}#sk-container-id-6 div.sk-parallel-item:first-child::after {align-self: flex-end;width: 50%;}#sk-container-id-6 div.sk-parallel-item:last-child::after {align-self: flex-start;width: 50%;}#sk-container-id-6 div.sk-parallel-item:only-child::after {width: 0;}#sk-container-id-6 div.sk-dashed-wrapped {border: 1px dashed gray;margin: 0 0.4em 0.5em 0.4em;box-sizing: border-box;padding-bottom: 0.4em;background-color: white;}#sk-container-id-6 div.sk-label label {font-family: monospace;font-weight: bold;display: inline-block;line-height: 1.2em;}#sk-container-id-6 div.sk-label-container {text-align: center;}#sk-container-id-6 div.sk-container {/* jupyter's `normalize.less` sets `[hidden] { display: none; }` but bootstrap.min.css set `[hidden] { display: none !important; }` so we also need the `!important` here to be able to override the default hidden behavior on the sphinx rendered scikit-learn.org. See: https://github.com/scikit-learn/scikit-learn/issues/21755 */display: inline-block !important;position: relative;}#sk-container-id-6 div.sk-text-repr-fallback {display: none;}</style><div id=\"sk-container-id-6\" class=\"sk-top-container\"><div class=\"sk-text-repr-fallback\"><pre>GridSearchCV(cv=5, estimator=AdaBoostRegressor(),\n",
       "             param_grid={&#x27;learning_rate&#x27;: [0.001, 0.1, 1, 1.5, 2, 2.5],\n",
       "                         &#x27;loss&#x27;: [&#x27;Linear&#x27;, &#x27;Square&#x27;],\n",
       "                         &#x27;n_estimators&#x27;: [50, 100, 200]},\n",
       "             verbose=3)</pre><b>In a Jupyter environment, please rerun this cell to show the HTML representation or trust the notebook. <br />On GitHub, the HTML representation is unable to render, please try loading this page with nbviewer.org.</b></div><div class=\"sk-container\" hidden><div class=\"sk-item sk-dashed-wrapped\"><div class=\"sk-label-container\"><div class=\"sk-label sk-toggleable\"><input class=\"sk-toggleable__control sk-hidden--visually\" id=\"sk-estimator-id-10\" type=\"checkbox\" ><label for=\"sk-estimator-id-10\" class=\"sk-toggleable__label sk-toggleable__label-arrow\">GridSearchCV</label><div class=\"sk-toggleable__content\"><pre>GridSearchCV(cv=5, estimator=AdaBoostRegressor(),\n",
       "             param_grid={&#x27;learning_rate&#x27;: [0.001, 0.1, 1, 1.5, 2, 2.5],\n",
       "                         &#x27;loss&#x27;: [&#x27;Linear&#x27;, &#x27;Square&#x27;],\n",
       "                         &#x27;n_estimators&#x27;: [50, 100, 200]},\n",
       "             verbose=3)</pre></div></div></div><div class=\"sk-parallel\"><div class=\"sk-parallel-item\"><div class=\"sk-item\"><div class=\"sk-label-container\"><div class=\"sk-label sk-toggleable\"><input class=\"sk-toggleable__control sk-hidden--visually\" id=\"sk-estimator-id-11\" type=\"checkbox\" ><label for=\"sk-estimator-id-11\" class=\"sk-toggleable__label sk-toggleable__label-arrow\">estimator: AdaBoostRegressor</label><div class=\"sk-toggleable__content\"><pre>AdaBoostRegressor()</pre></div></div></div><div class=\"sk-serial\"><div class=\"sk-item\"><div class=\"sk-estimator sk-toggleable\"><input class=\"sk-toggleable__control sk-hidden--visually\" id=\"sk-estimator-id-12\" type=\"checkbox\" ><label for=\"sk-estimator-id-12\" class=\"sk-toggleable__label sk-toggleable__label-arrow\">AdaBoostRegressor</label><div class=\"sk-toggleable__content\"><pre>AdaBoostRegressor()</pre></div></div></div></div></div></div></div></div></div></div>"
      ],
      "text/plain": [
       "GridSearchCV(cv=5, estimator=AdaBoostRegressor(),\n",
       "             param_grid={'learning_rate': [0.001, 0.1, 1, 1.5, 2, 2.5],\n",
       "                         'loss': ['Linear', 'Square'],\n",
       "                         'n_estimators': [50, 100, 200]},\n",
       "             verbose=3)"
      ]
     },
     "execution_count": 23,
     "metadata": {},
     "output_type": "execute_result"
    }
   ],
   "source": [
    "from sklearn.model_selection import GridSearchCV\n",
    "params_grid={\"n_estimators\":[50,100,200],\n",
    "             'learning_rate':[0.001,0.1,1,1.5,2,2.5],\n",
    "             'loss':[\"Linear\",\"Square\"]\n",
    "             }\n",
    "\n",
    "\n",
    "adr=AdaBoostRegressor()\n",
    "reg=GridSearchCV(estimator=adr,param_grid=params_grid,cv=5,verbose=3)\n",
    "reg\n"
   ]
  },
  {
   "cell_type": "code",
   "execution_count": 24,
   "metadata": {},
   "outputs": [
    {
     "name": "stdout",
     "output_type": "stream",
     "text": [
      "Fitting 5 folds for each of 36 candidates, totalling 180 fits\n",
      "[CV 1/5] END learning_rate=0.001, loss=Linear, n_estimators=50;, score=nan total time=   0.0s\n",
      "[CV 2/5] END learning_rate=0.001, loss=Linear, n_estimators=50;, score=nan total time=   0.0s\n",
      "[CV 3/5] END learning_rate=0.001, loss=Linear, n_estimators=50;, score=nan total time=   0.0s\n",
      "[CV 4/5] END learning_rate=0.001, loss=Linear, n_estimators=50;, score=nan total time=   0.0s\n",
      "[CV 5/5] END learning_rate=0.001, loss=Linear, n_estimators=50;, score=nan total time=   0.0s\n",
      "[CV 1/5] END learning_rate=0.001, loss=Linear, n_estimators=100;, score=nan total time=   0.0s\n",
      "[CV 2/5] END learning_rate=0.001, loss=Linear, n_estimators=100;, score=nan total time=   0.0s\n",
      "[CV 3/5] END learning_rate=0.001, loss=Linear, n_estimators=100;, score=nan total time=   0.0s\n",
      "[CV 4/5] END learning_rate=0.001, loss=Linear, n_estimators=100;, score=nan total time=   0.0s\n",
      "[CV 5/5] END learning_rate=0.001, loss=Linear, n_estimators=100;, score=nan total time=   0.0s\n",
      "[CV 1/5] END learning_rate=0.001, loss=Linear, n_estimators=200;, score=nan total time=   0.0s\n",
      "[CV 2/5] END learning_rate=0.001, loss=Linear, n_estimators=200;, score=nan total time=   0.0s\n",
      "[CV 3/5] END learning_rate=0.001, loss=Linear, n_estimators=200;, score=nan total time=   0.0s\n",
      "[CV 4/5] END learning_rate=0.001, loss=Linear, n_estimators=200;, score=nan total time=   0.0s\n",
      "[CV 5/5] END learning_rate=0.001, loss=Linear, n_estimators=200;, score=nan total time=   0.0s\n",
      "[CV 1/5] END learning_rate=0.001, loss=Square, n_estimators=50;, score=nan total time=   0.0s\n",
      "[CV 2/5] END learning_rate=0.001, loss=Square, n_estimators=50;, score=nan total time=   0.0s\n",
      "[CV 3/5] END learning_rate=0.001, loss=Square, n_estimators=50;, score=nan total time=   0.0s\n",
      "[CV 4/5] END learning_rate=0.001, loss=Square, n_estimators=50;, score=nan total time=   0.0s\n",
      "[CV 5/5] END learning_rate=0.001, loss=Square, n_estimators=50;, score=nan total time=   0.0s\n",
      "[CV 1/5] END learning_rate=0.001, loss=Square, n_estimators=100;, score=nan total time=   0.0s\n",
      "[CV 2/5] END learning_rate=0.001, loss=Square, n_estimators=100;, score=nan total time=   0.0s\n",
      "[CV 3/5] END learning_rate=0.001, loss=Square, n_estimators=100;, score=nan total time=   0.0s\n",
      "[CV 4/5] END learning_rate=0.001, loss=Square, n_estimators=100;, score=nan total time=   0.0s\n",
      "[CV 5/5] END learning_rate=0.001, loss=Square, n_estimators=100;, score=nan total time=   0.0s\n",
      "[CV 1/5] END learning_rate=0.001, loss=Square, n_estimators=200;, score=nan total time=   0.0s\n",
      "[CV 2/5] END learning_rate=0.001, loss=Square, n_estimators=200;, score=nan total time=   0.0s\n",
      "[CV 3/5] END learning_rate=0.001, loss=Square, n_estimators=200;, score=nan total time=   0.0s\n",
      "[CV 4/5] END learning_rate=0.001, loss=Square, n_estimators=200;, score=nan total time=   0.0s\n",
      "[CV 5/5] END learning_rate=0.001, loss=Square, n_estimators=200;, score=nan total time=   0.0s\n",
      "[CV 1/5] END learning_rate=0.1, loss=Linear, n_estimators=50;, score=nan total time=   0.0s\n",
      "[CV 2/5] END learning_rate=0.1, loss=Linear, n_estimators=50;, score=nan total time=   0.0s\n",
      "[CV 3/5] END learning_rate=0.1, loss=Linear, n_estimators=50;, score=nan total time=   0.0s\n",
      "[CV 4/5] END learning_rate=0.1, loss=Linear, n_estimators=50;, score=nan total time=   0.0s\n",
      "[CV 5/5] END learning_rate=0.1, loss=Linear, n_estimators=50;, score=nan total time=   0.0s\n",
      "[CV 1/5] END learning_rate=0.1, loss=Linear, n_estimators=100;, score=nan total time=   0.0s\n",
      "[CV 2/5] END learning_rate=0.1, loss=Linear, n_estimators=100;, score=nan total time=   0.0s\n",
      "[CV 3/5] END learning_rate=0.1, loss=Linear, n_estimators=100;, score=nan total time=   0.0s\n",
      "[CV 4/5] END learning_rate=0.1, loss=Linear, n_estimators=100;, score=nan total time=   0.0s\n",
      "[CV 5/5] END learning_rate=0.1, loss=Linear, n_estimators=100;, score=nan total time=   0.0s\n",
      "[CV 1/5] END learning_rate=0.1, loss=Linear, n_estimators=200;, score=nan total time=   0.0s\n",
      "[CV 2/5] END learning_rate=0.1, loss=Linear, n_estimators=200;, score=nan total time=   0.0s\n",
      "[CV 3/5] END learning_rate=0.1, loss=Linear, n_estimators=200;, score=nan total time=   0.0s\n",
      "[CV 4/5] END learning_rate=0.1, loss=Linear, n_estimators=200;, score=nan total time=   0.0s\n",
      "[CV 5/5] END learning_rate=0.1, loss=Linear, n_estimators=200;, score=nan total time=   0.0s\n",
      "[CV 1/5] END learning_rate=0.1, loss=Square, n_estimators=50;, score=nan total time=   0.0s\n",
      "[CV 2/5] END learning_rate=0.1, loss=Square, n_estimators=50;, score=nan total time=   0.0s\n",
      "[CV 3/5] END learning_rate=0.1, loss=Square, n_estimators=50;, score=nan total time=   0.0s\n",
      "[CV 4/5] END learning_rate=0.1, loss=Square, n_estimators=50;, score=nan total time=   0.0s\n",
      "[CV 5/5] END learning_rate=0.1, loss=Square, n_estimators=50;, score=nan total time=   0.0s\n",
      "[CV 1/5] END learning_rate=0.1, loss=Square, n_estimators=100;, score=nan total time=   0.0s\n",
      "[CV 2/5] END learning_rate=0.1, loss=Square, n_estimators=100;, score=nan total time=   0.0s\n",
      "[CV 3/5] END learning_rate=0.1, loss=Square, n_estimators=100;, score=nan total time=   0.0s\n",
      "[CV 4/5] END learning_rate=0.1, loss=Square, n_estimators=100;, score=nan total time=   0.0s\n",
      "[CV 5/5] END learning_rate=0.1, loss=Square, n_estimators=100;, score=nan total time=   0.0s\n",
      "[CV 1/5] END learning_rate=0.1, loss=Square, n_estimators=200;, score=nan total time=   0.0s\n",
      "[CV 2/5] END learning_rate=0.1, loss=Square, n_estimators=200;, score=nan total time=   0.0s\n",
      "[CV 3/5] END learning_rate=0.1, loss=Square, n_estimators=200;, score=nan total time=   0.0s\n",
      "[CV 4/5] END learning_rate=0.1, loss=Square, n_estimators=200;, score=nan total time=   0.0s\n",
      "[CV 5/5] END learning_rate=0.1, loss=Square, n_estimators=200;, score=nan total time=   0.0s\n",
      "[CV 1/5] END learning_rate=1, loss=Linear, n_estimators=50;, score=nan total time=   0.0s\n",
      "[CV 2/5] END learning_rate=1, loss=Linear, n_estimators=50;, score=nan total time=   0.0s\n",
      "[CV 3/5] END learning_rate=1, loss=Linear, n_estimators=50;, score=nan total time=   0.0s\n",
      "[CV 4/5] END learning_rate=1, loss=Linear, n_estimators=50;, score=nan total time=   0.0s\n",
      "[CV 5/5] END learning_rate=1, loss=Linear, n_estimators=50;, score=nan total time=   0.0s\n",
      "[CV 1/5] END learning_rate=1, loss=Linear, n_estimators=100;, score=nan total time=   0.0s\n",
      "[CV 2/5] END learning_rate=1, loss=Linear, n_estimators=100;, score=nan total time=   0.0s\n",
      "[CV 3/5] END learning_rate=1, loss=Linear, n_estimators=100;, score=nan total time=   0.0s\n",
      "[CV 4/5] END learning_rate=1, loss=Linear, n_estimators=100;, score=nan total time=   0.0s\n",
      "[CV 5/5] END learning_rate=1, loss=Linear, n_estimators=100;, score=nan total time=   0.0s\n",
      "[CV 1/5] END learning_rate=1, loss=Linear, n_estimators=200;, score=nan total time=   0.0s\n",
      "[CV 2/5] END learning_rate=1, loss=Linear, n_estimators=200;, score=nan total time=   0.0s\n",
      "[CV 3/5] END learning_rate=1, loss=Linear, n_estimators=200;, score=nan total time=   0.0s\n",
      "[CV 4/5] END learning_rate=1, loss=Linear, n_estimators=200;, score=nan total time=   0.0s\n",
      "[CV 5/5] END learning_rate=1, loss=Linear, n_estimators=200;, score=nan total time=   0.0s\n",
      "[CV 1/5] END learning_rate=1, loss=Square, n_estimators=50;, score=nan total time=   0.0s\n",
      "[CV 2/5] END learning_rate=1, loss=Square, n_estimators=50;, score=nan total time=   0.0s\n",
      "[CV 3/5] END learning_rate=1, loss=Square, n_estimators=50;, score=nan total time=   0.0s\n",
      "[CV 4/5] END learning_rate=1, loss=Square, n_estimators=50;, score=nan total time=   0.0s\n",
      "[CV 5/5] END learning_rate=1, loss=Square, n_estimators=50;, score=nan total time=   0.0s\n",
      "[CV 1/5] END learning_rate=1, loss=Square, n_estimators=100;, score=nan total time=   0.0s\n",
      "[CV 2/5] END learning_rate=1, loss=Square, n_estimators=100;, score=nan total time=   0.0s\n",
      "[CV 3/5] END learning_rate=1, loss=Square, n_estimators=100;, score=nan total time=   0.0s\n",
      "[CV 4/5] END learning_rate=1, loss=Square, n_estimators=100;, score=nan total time=   0.0s\n",
      "[CV 5/5] END learning_rate=1, loss=Square, n_estimators=100;, score=nan total time=   0.0s\n",
      "[CV 1/5] END learning_rate=1, loss=Square, n_estimators=200;, score=nan total time=   0.0s\n",
      "[CV 2/5] END learning_rate=1, loss=Square, n_estimators=200;, score=nan total time=   0.0s\n",
      "[CV 3/5] END learning_rate=1, loss=Square, n_estimators=200;, score=nan total time=   0.0s\n",
      "[CV 4/5] END learning_rate=1, loss=Square, n_estimators=200;, score=nan total time=   0.0s\n",
      "[CV 5/5] END learning_rate=1, loss=Square, n_estimators=200;, score=nan total time=   0.0s\n",
      "[CV 1/5] END learning_rate=1.5, loss=Linear, n_estimators=50;, score=nan total time=   0.0s\n",
      "[CV 2/5] END learning_rate=1.5, loss=Linear, n_estimators=50;, score=nan total time=   0.0s\n",
      "[CV 3/5] END learning_rate=1.5, loss=Linear, n_estimators=50;, score=nan total time=   0.0s\n",
      "[CV 4/5] END learning_rate=1.5, loss=Linear, n_estimators=50;, score=nan total time=   0.0s\n",
      "[CV 5/5] END learning_rate=1.5, loss=Linear, n_estimators=50;, score=nan total time=   0.0s\n",
      "[CV 1/5] END learning_rate=1.5, loss=Linear, n_estimators=100;, score=nan total time=   0.0s\n",
      "[CV 2/5] END learning_rate=1.5, loss=Linear, n_estimators=100;, score=nan total time=   0.0s\n",
      "[CV 3/5] END learning_rate=1.5, loss=Linear, n_estimators=100;, score=nan total time=   0.0s\n",
      "[CV 4/5] END learning_rate=1.5, loss=Linear, n_estimators=100;, score=nan total time=   0.0s\n",
      "[CV 5/5] END learning_rate=1.5, loss=Linear, n_estimators=100;, score=nan total time=   0.0s\n",
      "[CV 1/5] END learning_rate=1.5, loss=Linear, n_estimators=200;, score=nan total time=   0.0s\n",
      "[CV 2/5] END learning_rate=1.5, loss=Linear, n_estimators=200;, score=nan total time=   0.0s\n",
      "[CV 3/5] END learning_rate=1.5, loss=Linear, n_estimators=200;, score=nan total time=   0.0s\n",
      "[CV 4/5] END learning_rate=1.5, loss=Linear, n_estimators=200;, score=nan total time=   0.0s\n",
      "[CV 5/5] END learning_rate=1.5, loss=Linear, n_estimators=200;, score=nan total time=   0.0s\n",
      "[CV 1/5] END learning_rate=1.5, loss=Square, n_estimators=50;, score=nan total time=   0.0s\n",
      "[CV 2/5] END learning_rate=1.5, loss=Square, n_estimators=50;, score=nan total time=   0.0s\n",
      "[CV 3/5] END learning_rate=1.5, loss=Square, n_estimators=50;, score=nan total time=   0.0s\n",
      "[CV 4/5] END learning_rate=1.5, loss=Square, n_estimators=50;, score=nan total time=   0.0s\n",
      "[CV 5/5] END learning_rate=1.5, loss=Square, n_estimators=50;, score=nan total time=   0.0s\n",
      "[CV 1/5] END learning_rate=1.5, loss=Square, n_estimators=100;, score=nan total time=   0.0s\n",
      "[CV 2/5] END learning_rate=1.5, loss=Square, n_estimators=100;, score=nan total time=   0.0s\n",
      "[CV 3/5] END learning_rate=1.5, loss=Square, n_estimators=100;, score=nan total time=   0.0s\n",
      "[CV 4/5] END learning_rate=1.5, loss=Square, n_estimators=100;, score=nan total time=   0.0s\n",
      "[CV 5/5] END learning_rate=1.5, loss=Square, n_estimators=100;, score=nan total time=   0.0s\n",
      "[CV 1/5] END learning_rate=1.5, loss=Square, n_estimators=200;, score=nan total time=   0.0s\n",
      "[CV 2/5] END learning_rate=1.5, loss=Square, n_estimators=200;, score=nan total time=   0.0s\n",
      "[CV 3/5] END learning_rate=1.5, loss=Square, n_estimators=200;, score=nan total time=   0.0s\n",
      "[CV 4/5] END learning_rate=1.5, loss=Square, n_estimators=200;, score=nan total time=   0.0s\n",
      "[CV 5/5] END learning_rate=1.5, loss=Square, n_estimators=200;, score=nan total time=   0.0s\n",
      "[CV 1/5] END learning_rate=2, loss=Linear, n_estimators=50;, score=nan total time=   0.0s\n",
      "[CV 2/5] END learning_rate=2, loss=Linear, n_estimators=50;, score=nan total time=   0.0s\n",
      "[CV 3/5] END learning_rate=2, loss=Linear, n_estimators=50;, score=nan total time=   0.0s\n",
      "[CV 4/5] END learning_rate=2, loss=Linear, n_estimators=50;, score=nan total time=   0.0s\n",
      "[CV 5/5] END learning_rate=2, loss=Linear, n_estimators=50;, score=nan total time=   0.0s\n",
      "[CV 1/5] END learning_rate=2, loss=Linear, n_estimators=100;, score=nan total time=   0.0s\n",
      "[CV 2/5] END learning_rate=2, loss=Linear, n_estimators=100;, score=nan total time=   0.0s\n",
      "[CV 3/5] END learning_rate=2, loss=Linear, n_estimators=100;, score=nan total time=   0.0s\n",
      "[CV 4/5] END learning_rate=2, loss=Linear, n_estimators=100;, score=nan total time=   0.0s\n",
      "[CV 5/5] END learning_rate=2, loss=Linear, n_estimators=100;, score=nan total time=   0.0s\n",
      "[CV 1/5] END learning_rate=2, loss=Linear, n_estimators=200;, score=nan total time=   0.0s\n",
      "[CV 2/5] END learning_rate=2, loss=Linear, n_estimators=200;, score=nan total time=   0.0s\n",
      "[CV 3/5] END learning_rate=2, loss=Linear, n_estimators=200;, score=nan total time=   0.0s\n",
      "[CV 4/5] END learning_rate=2, loss=Linear, n_estimators=200;, score=nan total time=   0.0s\n",
      "[CV 5/5] END learning_rate=2, loss=Linear, n_estimators=200;, score=nan total time=   0.0s\n",
      "[CV 1/5] END learning_rate=2, loss=Square, n_estimators=50;, score=nan total time=   0.0s\n",
      "[CV 2/5] END learning_rate=2, loss=Square, n_estimators=50;, score=nan total time=   0.0s\n",
      "[CV 3/5] END learning_rate=2, loss=Square, n_estimators=50;, score=nan total time=   0.0s\n",
      "[CV 4/5] END learning_rate=2, loss=Square, n_estimators=50;, score=nan total time=   0.0s\n",
      "[CV 5/5] END learning_rate=2, loss=Square, n_estimators=50;, score=nan total time=   0.0s\n",
      "[CV 1/5] END learning_rate=2, loss=Square, n_estimators=100;, score=nan total time=   0.0s\n",
      "[CV 2/5] END learning_rate=2, loss=Square, n_estimators=100;, score=nan total time=   0.0s\n",
      "[CV 3/5] END learning_rate=2, loss=Square, n_estimators=100;, score=nan total time=   0.0s\n",
      "[CV 4/5] END learning_rate=2, loss=Square, n_estimators=100;, score=nan total time=   0.0s\n",
      "[CV 5/5] END learning_rate=2, loss=Square, n_estimators=100;, score=nan total time=   0.0s\n",
      "[CV 1/5] END learning_rate=2, loss=Square, n_estimators=200;, score=nan total time=   0.0s\n",
      "[CV 2/5] END learning_rate=2, loss=Square, n_estimators=200;, score=nan total time=   0.0s\n",
      "[CV 3/5] END learning_rate=2, loss=Square, n_estimators=200;, score=nan total time=   0.0s\n",
      "[CV 4/5] END learning_rate=2, loss=Square, n_estimators=200;, score=nan total time=   0.0s\n",
      "[CV 5/5] END learning_rate=2, loss=Square, n_estimators=200;, score=nan total time=   0.0s\n",
      "[CV 1/5] END learning_rate=2.5, loss=Linear, n_estimators=50;, score=nan total time=   0.0s\n",
      "[CV 2/5] END learning_rate=2.5, loss=Linear, n_estimators=50;, score=nan total time=   0.0s\n",
      "[CV 3/5] END learning_rate=2.5, loss=Linear, n_estimators=50;, score=nan total time=   0.0s\n",
      "[CV 4/5] END learning_rate=2.5, loss=Linear, n_estimators=50;, score=nan total time=   0.0s\n",
      "[CV 5/5] END learning_rate=2.5, loss=Linear, n_estimators=50;, score=nan total time=   0.0s\n",
      "[CV 1/5] END learning_rate=2.5, loss=Linear, n_estimators=100;, score=nan total time=   0.0s\n",
      "[CV 2/5] END learning_rate=2.5, loss=Linear, n_estimators=100;, score=nan total time=   0.0s\n",
      "[CV 3/5] END learning_rate=2.5, loss=Linear, n_estimators=100;, score=nan total time=   0.0s\n",
      "[CV 4/5] END learning_rate=2.5, loss=Linear, n_estimators=100;, score=nan total time=   0.0s\n",
      "[CV 5/5] END learning_rate=2.5, loss=Linear, n_estimators=100;, score=nan total time=   0.0s\n",
      "[CV 1/5] END learning_rate=2.5, loss=Linear, n_estimators=200;, score=nan total time=   0.0s\n",
      "[CV 2/5] END learning_rate=2.5, loss=Linear, n_estimators=200;, score=nan total time=   0.0s\n",
      "[CV 3/5] END learning_rate=2.5, loss=Linear, n_estimators=200;, score=nan total time=   0.0s\n",
      "[CV 4/5] END learning_rate=2.5, loss=Linear, n_estimators=200;, score=nan total time=   0.0s\n",
      "[CV 5/5] END learning_rate=2.5, loss=Linear, n_estimators=200;, score=nan total time=   0.0s\n",
      "[CV 1/5] END learning_rate=2.5, loss=Square, n_estimators=50;, score=nan total time=   0.0s\n",
      "[CV 2/5] END learning_rate=2.5, loss=Square, n_estimators=50;, score=nan total time=   0.0s\n",
      "[CV 3/5] END learning_rate=2.5, loss=Square, n_estimators=50;, score=nan total time=   0.0s\n",
      "[CV 4/5] END learning_rate=2.5, loss=Square, n_estimators=50;, score=nan total time=   0.0s\n",
      "[CV 5/5] END learning_rate=2.5, loss=Square, n_estimators=50;, score=nan total time=   0.0s\n",
      "[CV 1/5] END learning_rate=2.5, loss=Square, n_estimators=100;, score=nan total time=   0.0s\n",
      "[CV 2/5] END learning_rate=2.5, loss=Square, n_estimators=100;, score=nan total time=   0.0s\n",
      "[CV 3/5] END learning_rate=2.5, loss=Square, n_estimators=100;, score=nan total time=   0.0s\n",
      "[CV 4/5] END learning_rate=2.5, loss=Square, n_estimators=100;, score=nan total time=   0.0s\n",
      "[CV 5/5] END learning_rate=2.5, loss=Square, n_estimators=100;, score=nan total time=   0.0s\n",
      "[CV 1/5] END learning_rate=2.5, loss=Square, n_estimators=200;, score=nan total time=   0.0s\n",
      "[CV 2/5] END learning_rate=2.5, loss=Square, n_estimators=200;, score=nan total time=   0.0s\n",
      "[CV 3/5] END learning_rate=2.5, loss=Square, n_estimators=200;, score=nan total time=   0.0s\n",
      "[CV 4/5] END learning_rate=2.5, loss=Square, n_estimators=200;, score=nan total time=   0.0s\n",
      "[CV 5/5] END learning_rate=2.5, loss=Square, n_estimators=200;, score=nan total time=   0.0s\n"
     ]
    },
    {
     "ename": "ValueError",
     "evalue": "\nAll the 180 fits failed.\nIt is very likely that your model is misconfigured.\nYou can try to debug the error by setting error_score='raise'.\n\nBelow are more details about the failures:\n--------------------------------------------------------------------------------\n90 fits failed with the following error:\nTraceback (most recent call last):\n  File \"c:\\ProgramData\\anaconda3\\Lib\\site-packages\\sklearn\\model_selection\\_validation.py\", line 732, in _fit_and_score\n    estimator.fit(X_train, y_train, **fit_params)\n  File \"c:\\ProgramData\\anaconda3\\Lib\\site-packages\\sklearn\\base.py\", line 1144, in wrapper\n    estimator._validate_params()\n  File \"c:\\ProgramData\\anaconda3\\Lib\\site-packages\\sklearn\\base.py\", line 637, in _validate_params\n    validate_parameter_constraints(\n  File \"c:\\ProgramData\\anaconda3\\Lib\\site-packages\\sklearn\\utils\\_param_validation.py\", line 95, in validate_parameter_constraints\n    raise InvalidParameterError(\nsklearn.utils._param_validation.InvalidParameterError: The 'loss' parameter of AdaBoostRegressor must be a str among {'exponential', 'square', 'linear'}. Got 'Linear' instead.\n\n--------------------------------------------------------------------------------\n90 fits failed with the following error:\nTraceback (most recent call last):\n  File \"c:\\ProgramData\\anaconda3\\Lib\\site-packages\\sklearn\\model_selection\\_validation.py\", line 732, in _fit_and_score\n    estimator.fit(X_train, y_train, **fit_params)\n  File \"c:\\ProgramData\\anaconda3\\Lib\\site-packages\\sklearn\\base.py\", line 1144, in wrapper\n    estimator._validate_params()\n  File \"c:\\ProgramData\\anaconda3\\Lib\\site-packages\\sklearn\\base.py\", line 637, in _validate_params\n    validate_parameter_constraints(\n  File \"c:\\ProgramData\\anaconda3\\Lib\\site-packages\\sklearn\\utils\\_param_validation.py\", line 95, in validate_parameter_constraints\n    raise InvalidParameterError(\nsklearn.utils._param_validation.InvalidParameterError: The 'loss' parameter of AdaBoostRegressor must be a str among {'exponential', 'square', 'linear'}. Got 'Square' instead.\n",
     "output_type": "error",
     "traceback": [
      "\u001b[1;31m---------------------------------------------------------------------------\u001b[0m",
      "\u001b[1;31mValueError\u001b[0m                                Traceback (most recent call last)",
      "Cell \u001b[1;32mIn[24], line 1\u001b[0m\n\u001b[1;32m----> 1\u001b[0m \u001b[43mreg\u001b[49m\u001b[38;5;241;43m.\u001b[39;49m\u001b[43mfit\u001b[49m\u001b[43m(\u001b[49m\u001b[43mX_train\u001b[49m\u001b[43m,\u001b[49m\u001b[43my_train\u001b[49m\u001b[43m)\u001b[49m\n",
      "File \u001b[1;32mc:\\ProgramData\\anaconda3\\Lib\\site-packages\\sklearn\\base.py:1151\u001b[0m, in \u001b[0;36m_fit_context.<locals>.decorator.<locals>.wrapper\u001b[1;34m(estimator, *args, **kwargs)\u001b[0m\n\u001b[0;32m   1144\u001b[0m     estimator\u001b[38;5;241m.\u001b[39m_validate_params()\n\u001b[0;32m   1146\u001b[0m \u001b[38;5;28;01mwith\u001b[39;00m config_context(\n\u001b[0;32m   1147\u001b[0m     skip_parameter_validation\u001b[38;5;241m=\u001b[39m(\n\u001b[0;32m   1148\u001b[0m         prefer_skip_nested_validation \u001b[38;5;129;01mor\u001b[39;00m global_skip_validation\n\u001b[0;32m   1149\u001b[0m     )\n\u001b[0;32m   1150\u001b[0m ):\n\u001b[1;32m-> 1151\u001b[0m     \u001b[38;5;28;01mreturn\u001b[39;00m \u001b[43mfit_method\u001b[49m\u001b[43m(\u001b[49m\u001b[43mestimator\u001b[49m\u001b[43m,\u001b[49m\u001b[43m \u001b[49m\u001b[38;5;241;43m*\u001b[39;49m\u001b[43margs\u001b[49m\u001b[43m,\u001b[49m\u001b[43m \u001b[49m\u001b[38;5;241;43m*\u001b[39;49m\u001b[38;5;241;43m*\u001b[39;49m\u001b[43mkwargs\u001b[49m\u001b[43m)\u001b[49m\n",
      "File \u001b[1;32mc:\\ProgramData\\anaconda3\\Lib\\site-packages\\sklearn\\model_selection\\_search.py:898\u001b[0m, in \u001b[0;36mBaseSearchCV.fit\u001b[1;34m(self, X, y, groups, **fit_params)\u001b[0m\n\u001b[0;32m    892\u001b[0m     results \u001b[38;5;241m=\u001b[39m \u001b[38;5;28mself\u001b[39m\u001b[38;5;241m.\u001b[39m_format_results(\n\u001b[0;32m    893\u001b[0m         all_candidate_params, n_splits, all_out, all_more_results\n\u001b[0;32m    894\u001b[0m     )\n\u001b[0;32m    896\u001b[0m     \u001b[38;5;28;01mreturn\u001b[39;00m results\n\u001b[1;32m--> 898\u001b[0m \u001b[38;5;28;43mself\u001b[39;49m\u001b[38;5;241;43m.\u001b[39;49m\u001b[43m_run_search\u001b[49m\u001b[43m(\u001b[49m\u001b[43mevaluate_candidates\u001b[49m\u001b[43m)\u001b[49m\n\u001b[0;32m    900\u001b[0m \u001b[38;5;66;03m# multimetric is determined here because in the case of a callable\u001b[39;00m\n\u001b[0;32m    901\u001b[0m \u001b[38;5;66;03m# self.scoring the return type is only known after calling\u001b[39;00m\n\u001b[0;32m    902\u001b[0m first_test_score \u001b[38;5;241m=\u001b[39m all_out[\u001b[38;5;241m0\u001b[39m][\u001b[38;5;124m\"\u001b[39m\u001b[38;5;124mtest_scores\u001b[39m\u001b[38;5;124m\"\u001b[39m]\n",
      "File \u001b[1;32mc:\\ProgramData\\anaconda3\\Lib\\site-packages\\sklearn\\model_selection\\_search.py:1419\u001b[0m, in \u001b[0;36mGridSearchCV._run_search\u001b[1;34m(self, evaluate_candidates)\u001b[0m\n\u001b[0;32m   1417\u001b[0m \u001b[38;5;28;01mdef\u001b[39;00m \u001b[38;5;21m_run_search\u001b[39m(\u001b[38;5;28mself\u001b[39m, evaluate_candidates):\n\u001b[0;32m   1418\u001b[0m \u001b[38;5;250m    \u001b[39m\u001b[38;5;124;03m\"\"\"Search all candidates in param_grid\"\"\"\u001b[39;00m\n\u001b[1;32m-> 1419\u001b[0m     \u001b[43mevaluate_candidates\u001b[49m\u001b[43m(\u001b[49m\u001b[43mParameterGrid\u001b[49m\u001b[43m(\u001b[49m\u001b[38;5;28;43mself\u001b[39;49m\u001b[38;5;241;43m.\u001b[39;49m\u001b[43mparam_grid\u001b[49m\u001b[43m)\u001b[49m\u001b[43m)\u001b[49m\n",
      "File \u001b[1;32mc:\\ProgramData\\anaconda3\\Lib\\site-packages\\sklearn\\model_selection\\_search.py:875\u001b[0m, in \u001b[0;36mBaseSearchCV.fit.<locals>.evaluate_candidates\u001b[1;34m(candidate_params, cv, more_results)\u001b[0m\n\u001b[0;32m    868\u001b[0m \u001b[38;5;28;01melif\u001b[39;00m \u001b[38;5;28mlen\u001b[39m(out) \u001b[38;5;241m!=\u001b[39m n_candidates \u001b[38;5;241m*\u001b[39m n_splits:\n\u001b[0;32m    869\u001b[0m     \u001b[38;5;28;01mraise\u001b[39;00m \u001b[38;5;167;01mValueError\u001b[39;00m(\n\u001b[0;32m    870\u001b[0m         \u001b[38;5;124m\"\u001b[39m\u001b[38;5;124mcv.split and cv.get_n_splits returned \u001b[39m\u001b[38;5;124m\"\u001b[39m\n\u001b[0;32m    871\u001b[0m         \u001b[38;5;124m\"\u001b[39m\u001b[38;5;124minconsistent results. Expected \u001b[39m\u001b[38;5;132;01m{}\u001b[39;00m\u001b[38;5;124m \u001b[39m\u001b[38;5;124m\"\u001b[39m\n\u001b[0;32m    872\u001b[0m         \u001b[38;5;124m\"\u001b[39m\u001b[38;5;124msplits, got \u001b[39m\u001b[38;5;132;01m{}\u001b[39;00m\u001b[38;5;124m\"\u001b[39m\u001b[38;5;241m.\u001b[39mformat(n_splits, \u001b[38;5;28mlen\u001b[39m(out) \u001b[38;5;241m/\u001b[39m\u001b[38;5;241m/\u001b[39m n_candidates)\n\u001b[0;32m    873\u001b[0m     )\n\u001b[1;32m--> 875\u001b[0m \u001b[43m_warn_or_raise_about_fit_failures\u001b[49m\u001b[43m(\u001b[49m\u001b[43mout\u001b[49m\u001b[43m,\u001b[49m\u001b[43m \u001b[49m\u001b[38;5;28;43mself\u001b[39;49m\u001b[38;5;241;43m.\u001b[39;49m\u001b[43merror_score\u001b[49m\u001b[43m)\u001b[49m\n\u001b[0;32m    877\u001b[0m \u001b[38;5;66;03m# For callable self.scoring, the return type is only know after\u001b[39;00m\n\u001b[0;32m    878\u001b[0m \u001b[38;5;66;03m# calling. If the return type is a dictionary, the error scores\u001b[39;00m\n\u001b[0;32m    879\u001b[0m \u001b[38;5;66;03m# can now be inserted with the correct key. The type checking\u001b[39;00m\n\u001b[0;32m    880\u001b[0m \u001b[38;5;66;03m# of out will be done in `_insert_error_scores`.\u001b[39;00m\n\u001b[0;32m    881\u001b[0m \u001b[38;5;28;01mif\u001b[39;00m \u001b[38;5;28mcallable\u001b[39m(\u001b[38;5;28mself\u001b[39m\u001b[38;5;241m.\u001b[39mscoring):\n",
      "File \u001b[1;32mc:\\ProgramData\\anaconda3\\Lib\\site-packages\\sklearn\\model_selection\\_validation.py:414\u001b[0m, in \u001b[0;36m_warn_or_raise_about_fit_failures\u001b[1;34m(results, error_score)\u001b[0m\n\u001b[0;32m    407\u001b[0m \u001b[38;5;28;01mif\u001b[39;00m num_failed_fits \u001b[38;5;241m==\u001b[39m num_fits:\n\u001b[0;32m    408\u001b[0m     all_fits_failed_message \u001b[38;5;241m=\u001b[39m (\n\u001b[0;32m    409\u001b[0m         \u001b[38;5;124mf\u001b[39m\u001b[38;5;124m\"\u001b[39m\u001b[38;5;130;01m\\n\u001b[39;00m\u001b[38;5;124mAll the \u001b[39m\u001b[38;5;132;01m{\u001b[39;00mnum_fits\u001b[38;5;132;01m}\u001b[39;00m\u001b[38;5;124m fits failed.\u001b[39m\u001b[38;5;130;01m\\n\u001b[39;00m\u001b[38;5;124m\"\u001b[39m\n\u001b[0;32m    410\u001b[0m         \u001b[38;5;124m\"\u001b[39m\u001b[38;5;124mIt is very likely that your model is misconfigured.\u001b[39m\u001b[38;5;130;01m\\n\u001b[39;00m\u001b[38;5;124m\"\u001b[39m\n\u001b[0;32m    411\u001b[0m         \u001b[38;5;124m\"\u001b[39m\u001b[38;5;124mYou can try to debug the error by setting error_score=\u001b[39m\u001b[38;5;124m'\u001b[39m\u001b[38;5;124mraise\u001b[39m\u001b[38;5;124m'\u001b[39m\u001b[38;5;124m.\u001b[39m\u001b[38;5;130;01m\\n\u001b[39;00m\u001b[38;5;130;01m\\n\u001b[39;00m\u001b[38;5;124m\"\u001b[39m\n\u001b[0;32m    412\u001b[0m         \u001b[38;5;124mf\u001b[39m\u001b[38;5;124m\"\u001b[39m\u001b[38;5;124mBelow are more details about the failures:\u001b[39m\u001b[38;5;130;01m\\n\u001b[39;00m\u001b[38;5;132;01m{\u001b[39;00mfit_errors_summary\u001b[38;5;132;01m}\u001b[39;00m\u001b[38;5;124m\"\u001b[39m\n\u001b[0;32m    413\u001b[0m     )\n\u001b[1;32m--> 414\u001b[0m     \u001b[38;5;28;01mraise\u001b[39;00m \u001b[38;5;167;01mValueError\u001b[39;00m(all_fits_failed_message)\n\u001b[0;32m    416\u001b[0m \u001b[38;5;28;01melse\u001b[39;00m:\n\u001b[0;32m    417\u001b[0m     some_fits_failed_message \u001b[38;5;241m=\u001b[39m (\n\u001b[0;32m    418\u001b[0m         \u001b[38;5;124mf\u001b[39m\u001b[38;5;124m\"\u001b[39m\u001b[38;5;130;01m\\n\u001b[39;00m\u001b[38;5;132;01m{\u001b[39;00mnum_failed_fits\u001b[38;5;132;01m}\u001b[39;00m\u001b[38;5;124m fits failed out of a total of \u001b[39m\u001b[38;5;132;01m{\u001b[39;00mnum_fits\u001b[38;5;132;01m}\u001b[39;00m\u001b[38;5;124m.\u001b[39m\u001b[38;5;130;01m\\n\u001b[39;00m\u001b[38;5;124m\"\u001b[39m\n\u001b[0;32m    419\u001b[0m         \u001b[38;5;124m\"\u001b[39m\u001b[38;5;124mThe score on these train-test partitions for these parameters\u001b[39m\u001b[38;5;124m\"\u001b[39m\n\u001b[1;32m   (...)\u001b[0m\n\u001b[0;32m    423\u001b[0m         \u001b[38;5;124mf\u001b[39m\u001b[38;5;124m\"\u001b[39m\u001b[38;5;124mBelow are more details about the failures:\u001b[39m\u001b[38;5;130;01m\\n\u001b[39;00m\u001b[38;5;132;01m{\u001b[39;00mfit_errors_summary\u001b[38;5;132;01m}\u001b[39;00m\u001b[38;5;124m\"\u001b[39m\n\u001b[0;32m    424\u001b[0m     )\n",
      "\u001b[1;31mValueError\u001b[0m: \nAll the 180 fits failed.\nIt is very likely that your model is misconfigured.\nYou can try to debug the error by setting error_score='raise'.\n\nBelow are more details about the failures:\n--------------------------------------------------------------------------------\n90 fits failed with the following error:\nTraceback (most recent call last):\n  File \"c:\\ProgramData\\anaconda3\\Lib\\site-packages\\sklearn\\model_selection\\_validation.py\", line 732, in _fit_and_score\n    estimator.fit(X_train, y_train, **fit_params)\n  File \"c:\\ProgramData\\anaconda3\\Lib\\site-packages\\sklearn\\base.py\", line 1144, in wrapper\n    estimator._validate_params()\n  File \"c:\\ProgramData\\anaconda3\\Lib\\site-packages\\sklearn\\base.py\", line 637, in _validate_params\n    validate_parameter_constraints(\n  File \"c:\\ProgramData\\anaconda3\\Lib\\site-packages\\sklearn\\utils\\_param_validation.py\", line 95, in validate_parameter_constraints\n    raise InvalidParameterError(\nsklearn.utils._param_validation.InvalidParameterError: The 'loss' parameter of AdaBoostRegressor must be a str among {'exponential', 'square', 'linear'}. Got 'Linear' instead.\n\n--------------------------------------------------------------------------------\n90 fits failed with the following error:\nTraceback (most recent call last):\n  File \"c:\\ProgramData\\anaconda3\\Lib\\site-packages\\sklearn\\model_selection\\_validation.py\", line 732, in _fit_and_score\n    estimator.fit(X_train, y_train, **fit_params)\n  File \"c:\\ProgramData\\anaconda3\\Lib\\site-packages\\sklearn\\base.py\", line 1144, in wrapper\n    estimator._validate_params()\n  File \"c:\\ProgramData\\anaconda3\\Lib\\site-packages\\sklearn\\base.py\", line 637, in _validate_params\n    validate_parameter_constraints(\n  File \"c:\\ProgramData\\anaconda3\\Lib\\site-packages\\sklearn\\utils\\_param_validation.py\", line 95, in validate_parameter_constraints\n    raise InvalidParameterError(\nsklearn.utils._param_validation.InvalidParameterError: The 'loss' parameter of AdaBoostRegressor must be a str among {'exponential', 'square', 'linear'}. Got 'Square' instead.\n"
     ]
    }
   ],
   "source": []
  },
  {
   "cell_type": "code",
   "execution_count": null,
   "metadata": {},
   "outputs": [],
   "source": []
  }
 ],
 "metadata": {
  "kernelspec": {
   "display_name": "base",
   "language": "python",
   "name": "python3"
  },
  "language_info": {
   "codemirror_mode": {
    "name": "ipython",
    "version": 3
   },
   "file_extension": ".py",
   "mimetype": "text/x-python",
   "name": "python",
   "nbconvert_exporter": "python",
   "pygments_lexer": "ipython3",
   "version": "3.11.5"
  }
 },
 "nbformat": 4,
 "nbformat_minor": 2
}
