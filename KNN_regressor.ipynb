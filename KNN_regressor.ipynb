{
 "cells": [
  {
   "cell_type": "code",
   "execution_count": 2,
   "metadata": {},
   "outputs": [],
   "source": [
    "import pandas as pd\n",
    "import numpy as np\n",
    "import matplotlib.pyplot as plt\n",
    "import seaborn as sns\n",
    "\n",
    "\n",
    "import warnings\n",
    "warnings.filterwarnings('ignore')"
   ]
  },
  {
   "cell_type": "code",
   "execution_count": 24,
   "metadata": {},
   "outputs": [],
   "source": [
    "from sklearn.datasets import make_regression\n",
    "X,y=make_regression(n_samples=1000,n_features=3,noise=3,random_state=1)"
   ]
  },
  {
   "cell_type": "code",
   "execution_count": 25,
   "metadata": {},
   "outputs": [
    {
     "data": {
      "text/plain": [
       "array([[ 1.45167891,  0.3416886 , -0.12517266],\n",
       "       [-0.7003985 , -0.20339445,  0.24266944],\n",
       "       [-0.10646012, -2.79099641, -0.45611756],\n",
       "       ...,\n",
       "       [-0.56282904, -1.2514994 ,  1.29857162],\n",
       "       [-1.16896134, -1.8994631 , -2.5399554 ],\n",
       "       [ 0.88608992,  0.31897183,  0.26486763]])"
      ]
     },
     "execution_count": 25,
     "metadata": {},
     "output_type": "execute_result"
    }
   ],
   "source": [
    "X"
   ]
  },
  {
   "cell_type": "code",
   "execution_count": 26,
   "metadata": {},
   "outputs": [
    {
     "data": {
      "text/plain": [
       "array([ 1.39904571e+02, -5.73895194e+01, -2.96893724e+02,  7.21170194e+01,\n",
       "        5.04726714e+01,  1.57200504e+02,  2.04260303e+02,  2.45152715e+01,\n",
       "       -4.40087255e+02, -1.69425107e+02,  5.28891813e+01,  2.07289193e+02,\n",
       "       -9.37774659e+01,  9.35903925e+01, -2.96302269e+02,  7.53450451e+01,\n",
       "       -1.47200527e+02,  1.14678762e+02,  1.23527566e+02, -1.40769533e+02,\n",
       "       -1.78451948e+02,  1.22263134e+02, -1.79314709e+01, -8.10963909e+01,\n",
       "       -6.99232689e+01, -1.53279905e+02,  1.92297657e+02,  2.07265941e+01,\n",
       "       -8.11609653e+01, -9.59671992e+01,  1.55804815e+02, -7.75749150e+01,\n",
       "       -8.48911930e+01,  8.07143772e+01,  2.37712896e+02, -2.38146151e+02,\n",
       "        2.98373697e+02, -4.62391257e+01,  2.51304584e+02,  1.75129670e+02,\n",
       "       -1.45707642e+00, -3.00146368e+02, -2.62857003e+02,  1.67565370e+01,\n",
       "        1.47162845e+02, -5.80689227e+01, -1.22442048e+01,  3.53504499e+02,\n",
       "       -8.09951545e+01,  3.62727381e+01, -2.03157268e+01,  1.77507056e+02,\n",
       "        6.75353132e+01,  9.54271597e+01,  2.21137461e+01,  2.41973564e+02,\n",
       "        2.53181244e+02,  2.02961146e+01,  1.92146506e+02,  1.45234613e+02,\n",
       "       -6.77917990e+01, -2.68855159e+02,  2.18705005e+00, -2.46816451e+02,\n",
       "        1.90078926e+02, -1.71196593e+02,  1.39637816e+02, -1.54305196e+02,\n",
       "        1.16244700e+02, -9.53703355e+01,  3.28916658e+02,  8.23643622e+01,\n",
       "       -4.44959429e+01, -3.44034928e+02, -1.21289319e+02,  1.19584928e+02,\n",
       "        1.23182404e+02,  1.18894282e+02,  1.29887139e+02,  1.56943543e+02,\n",
       "        1.00389210e+02, -2.96759366e+01,  3.76238363e+01,  8.93356359e+00,\n",
       "        7.63410182e+01,  7.55573126e+01, -8.93358985e+01, -2.00812684e+02,\n",
       "       -1.78171644e+02, -5.79809964e+01,  5.56706723e+01,  1.01654531e+02,\n",
       "        2.01366970e+02,  1.87740985e+02, -2.19298259e+02, -1.29474948e+02,\n",
       "        1.09096135e+02, -4.22910142e+00, -5.88635534e+01,  7.59102585e+01,\n",
       "       -2.82012929e+02, -2.50710940e+02,  4.63413424e+01,  5.69003999e+01,\n",
       "       -1.71513609e+02,  8.73058448e+01,  1.06119946e+02, -1.19653561e+02,\n",
       "        2.11596363e+02, -1.09502856e+02,  1.22492734e+02,  2.38146603e+02,\n",
       "       -4.98280873e+00, -1.93846001e+02,  9.21792193e+01,  1.17340678e+02,\n",
       "       -7.88147645e+01, -5.24110106e+01, -5.80373335e-01,  4.07173894e+02,\n",
       "       -9.88024094e+01,  4.06420540e+01,  4.38529659e+01, -1.68209075e+01,\n",
       "        3.08727777e+01,  9.93664899e+00,  1.68156663e+02, -2.32192954e+00,\n",
       "       -3.35374077e+01, -9.35734819e+01, -8.81009308e+01, -1.19896685e+02,\n",
       "       -2.24490434e+00,  7.45479862e+01, -2.05777902e+01, -8.10779958e+01,\n",
       "       -1.93026982e+01, -7.81101052e+01, -4.52135689e+01,  1.10176318e+02,\n",
       "       -4.23745085e+01, -2.28218897e+01,  9.78183948e+00,  4.63503384e+01,\n",
       "        1.46968706e+02, -9.35295221e+01, -1.29176432e+02, -1.89257778e+01,\n",
       "        2.45292831e+02, -3.06268386e+02,  7.57812979e+01,  1.42274167e+02,\n",
       "        4.01105291e+01, -1.76573000e+02,  1.09735094e+02, -7.87400449e+01,\n",
       "       -2.96034700e+01, -6.45295090e+00,  2.01072174e+02, -1.88673735e+00,\n",
       "        3.23736923e+01, -2.33011088e+02, -3.47328919e+02,  7.34602896e+00,\n",
       "       -3.63626089e+01,  2.52229575e+02,  2.45776324e+02,  8.93066740e+01,\n",
       "       -3.01347988e+02, -9.04750359e+01, -8.28903832e+01, -2.40138483e+02,\n",
       "       -1.54578956e+02,  1.92807618e+02,  3.40194941e+01,  2.50588300e+02,\n",
       "       -1.03551336e+02,  1.73009847e+02, -1.26710917e+02,  1.31436828e+02,\n",
       "        1.51734581e+02,  1.22544013e+01, -3.31556644e+01, -7.71349727e+01,\n",
       "       -8.38251165e+01,  1.35332402e+02, -5.52502268e+01,  8.88826006e+01,\n",
       "        2.55528510e+02, -1.29978166e+02,  2.49909716e+02, -1.22562469e+02,\n",
       "       -2.02976600e+02, -4.18877586e+01,  1.29988187e+02,  8.13101478e+01,\n",
       "        1.06336556e+02, -1.53507395e+00,  2.35568204e+01, -1.10523828e+01,\n",
       "        1.16081087e+02,  1.60619264e+01, -4.42495758e+01, -8.12921663e+01,\n",
       "        1.74011276e+02,  3.18652604e+02, -1.39531309e+02, -7.96846210e+01,\n",
       "       -5.54200875e+01, -5.54705047e+01,  1.43546623e+02,  2.57784132e+01,\n",
       "       -5.16250231e+01,  2.27726019e+02, -1.22471029e+02, -2.55740224e+02,\n",
       "        2.96830404e+01, -2.01422970e+01,  7.59691694e+01, -1.33711134e+02,\n",
       "       -6.21777584e+01, -1.32982462e+02,  1.37953186e+02, -2.11464123e+02,\n",
       "       -2.85696361e+02, -6.16407048e+01, -7.88457200e+01,  2.10941014e+02,\n",
       "       -1.70979411e+00,  1.03497139e+02, -3.21054315e+02,  2.63150922e+02,\n",
       "       -5.13056845e+01,  1.87910363e+02, -2.14698429e+02, -1.10876473e+02,\n",
       "        2.41580076e+02, -3.71487357e+01, -1.05064548e+01, -6.13964329e+01,\n",
       "       -1.55515895e+02,  4.85877437e+01, -2.03521574e+01, -7.41528292e+01,\n",
       "        1.97602643e+02,  6.32740435e+00, -1.29064089e+02,  1.28216313e+01,\n",
       "       -2.65637620e+02,  9.15460101e+01,  1.03582392e+02, -5.78930648e+01,\n",
       "       -1.25326121e+02,  1.42344073e+02, -2.15587028e+02, -8.42162996e+01,\n",
       "        1.42997518e+02, -7.00420292e+01, -5.68805289e+01,  9.01360310e+00,\n",
       "       -3.79310215e+01,  1.62278592e+02,  3.28152792e+02,  2.61048898e+02,\n",
       "       -2.58926838e+02, -7.23412911e+01,  2.55403133e+02, -9.08907481e+01,\n",
       "        1.74513889e+02,  2.82011562e+02, -1.46323115e+02, -1.33426060e+02,\n",
       "        2.63394916e+01,  8.70422251e+01, -1.94515852e+02, -2.74136800e+01,\n",
       "        2.03534869e+02,  2.35463287e+02,  2.81681511e+02, -1.28319649e+01,\n",
       "        1.46061235e+02, -5.90244502e+02,  1.40314168e+02,  1.07527242e+02,\n",
       "        8.63690202e+01, -3.27002459e+00,  2.11081004e+02,  2.06537239e+02,\n",
       "       -3.63146159e+01, -1.26973233e+02,  3.43540070e+01,  1.16152160e+02,\n",
       "       -8.94894962e+01, -2.76058235e+01, -2.39641462e+02, -5.83997140e+01,\n",
       "        1.20738284e+02,  2.63686426e+02,  2.88543461e+01, -9.21402995e+01,\n",
       "        7.42450566e+01,  1.24829375e+02,  1.37578958e+02, -7.45575417e+01,\n",
       "        1.03863904e+02, -1.00512621e+02, -3.72715093e+01,  2.53947847e+02,\n",
       "       -1.39192069e+02,  2.27118405e+02, -7.04343031e+01,  1.07447679e+02,\n",
       "       -4.85108927e+01, -2.61395817e+01,  6.13170417e+01,  1.22785137e+02,\n",
       "        1.94520557e+02, -2.21611954e+02,  1.53031468e+02, -3.56824082e+00,\n",
       "        2.01799027e+02,  8.06274965e+00, -7.06893996e+01, -2.24280311e+02,\n",
       "        1.55936594e+02,  1.84015724e+02,  1.04784170e+02,  9.50996154e+01,\n",
       "        4.31713329e+01, -1.64464057e+02,  5.11949395e+01, -1.95174942e+02,\n",
       "       -1.52972481e+02,  2.20570589e+02,  4.53919988e+01,  8.70092140e+01,\n",
       "        1.66004786e+01, -2.30527660e+00,  2.69284152e+01, -9.33500789e+00,\n",
       "       -1.08317538e+02, -3.01979650e+02, -8.64963188e+00, -5.67114566e+01,\n",
       "       -1.05245290e+02,  4.89806204e+01, -1.15707065e+02, -1.54638551e+02,\n",
       "        1.38162284e+02,  1.96784767e+02, -1.69156119e+02, -4.60417329e+00,\n",
       "       -8.06437864e+01,  1.39572800e+02, -3.78886162e+01,  5.56293815e+01,\n",
       "       -1.21575374e+02,  1.35089370e+02, -4.37713051e+01,  8.16281157e+01,\n",
       "        1.32972106e+01, -2.64791815e+02, -1.04020671e+02, -2.04668494e+02,\n",
       "       -2.23183524e+01,  7.92084666e+01,  1.96955833e+02,  1.85417915e+02,\n",
       "        9.36515315e+00, -9.88912145e+01, -4.82807643e+01,  1.25510673e+02,\n",
       "       -4.18529987e+01, -9.74231417e+01,  1.13119470e+02, -9.31963565e+01,\n",
       "        3.01716995e+01, -1.81493631e+01, -1.60357578e+01, -6.13750309e+01,\n",
       "        1.09719863e+01,  1.77713314e+02, -9.11820402e+01,  7.80880075e-01,\n",
       "        7.72489315e+01, -1.07889811e+01, -3.00734858e+02, -5.35778001e+01,\n",
       "        8.14103194e-01,  1.33175226e+02,  3.28674517e+02,  1.16844174e+02,\n",
       "        1.08968107e+01,  3.90162282e+01,  3.45183991e+01, -1.08253346e+02,\n",
       "        6.04532435e+01, -2.02115044e+02, -4.59393761e+01, -2.64360591e+02,\n",
       "        1.25090498e+02, -1.76528007e+01,  1.22952169e+02, -1.39388101e+02,\n",
       "       -1.66199485e+01, -1.94718505e+02, -1.14480231e+01,  5.55122871e+01,\n",
       "       -1.09617375e+02,  3.88981741e+01,  7.12236290e+01, -7.11270003e+01,\n",
       "        1.83058226e+01, -1.15638429e+02,  1.65105969e+02,  1.77297892e+02,\n",
       "       -2.21793053e+02, -9.03945403e+01,  5.46498832e+01, -2.05625467e+02,\n",
       "       -5.85937959e+01, -7.16961725e+01,  1.18714041e+02,  8.25508305e+01,\n",
       "        6.37945878e+01, -1.14618214e+02,  1.44241590e+02, -3.13029402e+01,\n",
       "       -7.58527821e+00,  3.92030655e+01, -3.47667920e+01,  3.41491472e+02,\n",
       "       -1.82682550e+02, -3.00106529e+01, -1.06118257e+02, -9.90266470e+01,\n",
       "       -1.04704810e+02,  5.28267417e+01,  1.26873679e+02,  1.92753253e+02,\n",
       "       -7.85056864e+01, -2.17802881e+02,  7.61431106e+01, -2.47253602e+02,\n",
       "        1.50149400e+02,  8.13495222e+01, -1.61559534e+02,  8.75945422e+01,\n",
       "        1.19563857e-02, -2.61495586e+01,  2.28907120e+02, -3.60444380e+01,\n",
       "       -1.36223395e+02, -1.19855221e+02, -2.55041598e+02,  1.00717520e+02,\n",
       "        2.95375494e+02, -3.03300363e+01,  2.92992518e+02,  2.12882185e+02,\n",
       "        1.08970013e+02,  1.40103863e+02, -7.85273914e+01,  3.15161807e+01,\n",
       "       -1.62812038e+02, -6.97689396e+01, -1.31139457e+02, -3.31701798e+02,\n",
       "       -2.17452459e+02,  5.26295597e+01, -1.44824959e+02, -9.95677191e+00,\n",
       "        1.22950897e+02, -6.28974332e+00, -3.46749961e+00, -1.16447038e+02,\n",
       "       -7.40934897e+01,  7.73134400e+01, -1.29602553e+02,  1.01379202e+02,\n",
       "        2.52151440e+01,  9.03650247e+01, -8.08632536e+01,  7.78585520e+01,\n",
       "        1.68490770e+02,  2.84511634e+02,  1.71105468e+02, -8.88749304e+01,\n",
       "        9.65084498e+01, -1.43983123e+01,  3.52594135e+00,  2.98430899e+01,\n",
       "       -1.10052165e+02, -2.55390393e+02,  3.57591958e+02, -5.85488597e+01,\n",
       "        3.38623349e+01,  1.37695824e+02, -6.41188472e+00, -1.96638630e+01,\n",
       "        1.83991988e+02,  2.01983663e+02, -6.06954060e+01,  5.26060224e+01,\n",
       "       -9.93141388e+01, -8.20194969e+01, -5.19239785e+01, -5.27730700e+01,\n",
       "       -5.74954342e+01,  2.65926874e+01, -6.76824675e+01, -6.68977129e+01,\n",
       "        7.35039029e+01, -1.68204367e+02, -4.43010149e+01, -2.66414105e+02,\n",
       "        2.78936380e+02, -3.89625477e+01,  1.67773191e+02,  4.89218744e+01,\n",
       "        2.60530244e+01,  6.96530694e+01,  1.69083153e+02,  1.10627788e+02,\n",
       "       -1.62414168e+02,  2.18465491e+02, -1.25629794e+02, -3.34692819e+02,\n",
       "       -1.56315490e+02, -1.15087768e+02,  4.68771026e+01,  1.00859660e+02,\n",
       "       -2.64230104e+02,  2.28738478e+02,  1.36804531e+02, -2.10317961e+02,\n",
       "       -2.51376798e+01, -2.30616311e+02,  2.17825476e+02, -1.17685905e+02,\n",
       "       -1.53952473e+01,  6.96085387e+01,  1.97451890e+00, -4.42014203e+01,\n",
       "        4.34321340e+01,  6.46457264e+01,  7.58435813e+01, -2.38956423e+02,\n",
       "       -6.45145612e+01, -9.42934619e+01,  8.94393382e+01,  1.00797318e+02,\n",
       "       -1.13423505e+02, -1.95368285e+02, -1.46779520e+02, -4.10620199e+01,\n",
       "        1.02519483e+02,  2.59487378e+02,  2.98226447e+01,  8.45805845e+01,\n",
       "       -2.17268119e+02, -7.09332856e+01,  1.08714625e+02, -4.11778099e+01,\n",
       "       -2.62313644e+02,  1.26732387e+02, -9.04099810e+01, -4.17925057e+02,\n",
       "        3.69296644e+00, -2.91824272e+02,  6.33250328e+00, -1.35996555e+02,\n",
       "       -1.23451938e+02,  2.72947041e+02,  7.50177190e+01, -2.67097058e+02,\n",
       "       -1.49838247e+01, -3.62345498e+01, -1.20371295e+01, -2.43088667e+02,\n",
       "        1.60496986e+02,  2.48229184e+02, -2.05192050e+02, -1.90232132e+02,\n",
       "       -2.28750791e+02, -5.60897406e+00,  2.41928394e+02, -1.77051950e+02,\n",
       "       -4.30881576e+01,  1.48640731e+01,  3.50240794e+01,  1.83052222e+02,\n",
       "       -1.63280068e+02,  7.83740576e+01,  2.03657566e+02, -1.56694894e+02,\n",
       "       -8.74235528e+00,  6.56840281e+01, -1.48607253e+02, -1.46653112e+02,\n",
       "       -1.99644882e+01,  4.46184063e+01,  3.98658342e+01,  1.16070091e+00,\n",
       "        3.07146732e+00,  6.54549505e+01, -7.00171410e+01, -6.75552873e+01,\n",
       "       -8.21513700e+01, -3.63759287e+01,  2.10322074e+02,  3.57644561e+02,\n",
       "        1.23275844e+01, -2.26180421e+02,  1.84566095e+02,  1.43795028e+02,\n",
       "       -3.40919555e+02,  9.64822056e+01, -5.61070429e+01,  2.67830446e+01,\n",
       "        5.51367779e+01,  1.39253457e+02,  9.31020953e+01,  1.04934625e+02,\n",
       "        6.16267608e+01,  8.88817687e+01, -8.38184501e+01,  3.87668326e+01,\n",
       "       -2.71924232e+01, -1.52191063e+01, -1.27598897e+02,  1.38640271e+01,\n",
       "       -1.77024924e+02, -1.52634768e+02, -3.62600881e+01,  1.29811612e+02,\n",
       "       -1.42772971e+02,  8.83002246e+01,  1.47650129e+02,  1.51669331e+01,\n",
       "        1.45831546e+00, -1.40013610e+02,  1.59485149e+02,  6.44764643e+01,\n",
       "       -6.65191664e-02, -1.16279811e+02, -1.24916924e+02,  3.79314394e+01,\n",
       "       -1.26326861e+02,  1.15369580e+02, -7.55654745e+00, -2.39126352e+02,\n",
       "       -1.89614429e+02,  5.55991363e+01,  1.82557964e+02, -7.41567024e+01,\n",
       "        2.53808190e+02,  2.74217721e+01, -1.80422681e+02,  4.20922494e+01,\n",
       "       -3.89672757e+00,  1.97611073e+01, -9.64656582e+01, -4.89188578e+01,\n",
       "        2.08403384e+01, -3.05246644e+02, -2.42965778e+02,  9.05927601e+00,\n",
       "        1.47892670e+02,  1.24774206e+02,  1.82731244e+02, -1.24263886e+02,\n",
       "       -7.94143194e+01, -9.20491936e+01, -1.89970052e+02,  5.70424068e+01,\n",
       "       -5.26078634e+01, -5.32751245e+01, -4.91896332e+01, -1.21943752e+02,\n",
       "       -4.33156894e+01,  1.87078535e+02, -7.40982594e+01,  2.57330427e+01,\n",
       "        8.61005554e+01, -1.21332751e+02, -8.00785532e+01, -1.76794176e+02,\n",
       "       -5.35957017e+01,  9.75012867e+01,  6.09313953e+00,  1.96858159e+02,\n",
       "        7.47308978e+01,  5.29182708e+01, -6.78345963e+01, -2.20343956e+01,\n",
       "       -8.36699537e+01, -9.47196570e+01,  1.91560873e+02, -9.56086673e+01,\n",
       "       -2.15571235e+02, -5.77976912e+01,  2.02757276e+02, -1.83450435e+02,\n",
       "        1.57977772e+02,  1.02063379e+02, -2.21481609e+02,  7.11540706e+01,\n",
       "       -1.62172018e+02,  1.44422869e+02, -1.63915037e+02, -2.37823849e+02,\n",
       "        4.19252615e+01, -2.41469949e+02, -1.81955739e+02, -3.28334658e+02,\n",
       "       -2.51008840e+02, -8.81122375e+01,  7.99707394e+00,  6.79553653e+01,\n",
       "       -1.96364579e+02,  1.92509830e+02, -2.18226639e+02,  2.69114652e+02,\n",
       "        9.15525831e+01,  2.02448473e+02,  8.20973808e+01, -2.54598929e+01,\n",
       "        1.20727805e+02,  1.16133112e+02, -1.05665882e+02,  9.88722983e+01,\n",
       "       -3.09528745e+00,  2.82834270e+02,  1.78187109e+01,  1.14553898e+02,\n",
       "        1.82316372e+01, -3.46245457e+01, -7.59826583e+01, -2.11706178e+02,\n",
       "        2.37054919e+02,  2.10640000e+02, -1.31245126e+02, -8.80175644e+01,\n",
       "       -5.65744870e+01,  1.28396096e+01, -5.80814424e+00, -1.74688913e+02,\n",
       "       -4.38528300e+01,  1.13025529e+02,  4.12133718e+01, -4.37735119e+01,\n",
       "       -4.51964293e+01,  2.00719606e+02, -3.17596363e+02, -2.80024833e+01,\n",
       "       -2.61458344e+01,  2.53666755e+02, -1.50749396e+02, -5.65073917e+01,\n",
       "       -3.27073420e+02,  1.06735840e+02,  2.30456553e+02, -1.52508203e+02,\n",
       "       -2.12194282e+01,  1.71527684e+02, -1.97388060e+02,  9.17314097e+01,\n",
       "        1.77444736e+02, -8.55817338e+01, -8.05407467e+01, -1.70039681e+02,\n",
       "        3.99866744e+01,  2.77837921e+02, -1.30418842e+02,  2.55019915e+02,\n",
       "       -2.60219538e+02, -1.12739263e+02,  4.16661852e+02,  2.93138171e+01,\n",
       "       -2.65768794e+02,  2.02077406e+02, -2.09143931e+02,  2.10115397e+02,\n",
       "       -4.86926955e+00,  1.24289462e+01, -4.53915701e+01, -1.21078349e+02,\n",
       "        2.40499361e+02,  5.46323943e+01,  1.24625187e+01, -1.91539294e+02,\n",
       "        3.88835080e+01,  2.45703158e+01,  6.63172989e+01, -1.14875622e+02,\n",
       "        1.77662041e+02,  1.10473834e+02,  1.77434625e+02,  9.31998327e+01,\n",
       "        4.17781242e+01,  5.38097507e+01,  1.49599626e+02,  7.01658710e+00,\n",
       "       -1.45041283e+02, -1.47769380e+02,  1.77760279e+01,  5.77552677e+01,\n",
       "        6.63374965e+01, -6.37588949e+01, -7.08406620e+01,  5.21874156e+01,\n",
       "        2.31940007e+02, -2.30570100e+02,  4.03584496e+02,  7.21069914e+01,\n",
       "        3.19636359e+02,  2.22357087e+02, -1.59753247e+01, -1.34849380e+02,\n",
       "        1.16937497e+02, -6.74909139e+00,  3.71522909e+01,  9.30500560e+01,\n",
       "        5.53152834e+01,  1.99502954e+02,  8.35992832e+01, -1.01105298e+01,\n",
       "        1.24325048e+02,  1.41877877e+02,  1.26854949e+02, -1.55280782e+02,\n",
       "       -2.69110235e+01, -2.66694539e+02, -2.44114495e+01,  1.65608164e+02,\n",
       "        7.99774695e-02, -3.32258924e+02,  1.97237512e+02,  5.46390035e+01,\n",
       "        1.54374768e+02, -1.93145293e+02,  4.95553211e+01,  2.80325118e+00,\n",
       "        2.43450490e+01, -1.76300693e+02,  9.31084696e+01,  1.97868456e+00,\n",
       "        1.25823649e+02,  2.47573325e+02, -1.21393461e+02,  2.91525462e+02,\n",
       "        4.61978479e+01, -5.07854537e+01,  4.15089112e+02,  8.32077746e+01,\n",
       "       -2.23896679e+01, -1.03058243e+02, -1.45550811e+02,  9.90607086e+01,\n",
       "       -4.97377740e+01,  3.30294635e+02,  1.36250027e+02,  2.43264553e+02,\n",
       "       -1.34969255e+02,  2.98214399e+01, -1.78882818e+02, -1.88641060e+02,\n",
       "        3.64351534e+02, -2.05797827e+01, -2.17617936e+02, -7.90782971e-01,\n",
       "        3.87944907e+00, -2.72002937e+02,  5.25762778e+02, -1.09893016e+02,\n",
       "       -2.62693173e+02,  1.50183545e+02,  1.36228828e+02,  1.37694638e+02,\n",
       "        9.89671293e+01,  1.92161814e+02,  1.11322007e+02,  1.27921872e+02,\n",
       "       -1.67615628e+02,  1.08422059e+01, -1.04625982e-01, -1.40965592e+02,\n",
       "       -1.75411843e+02, -1.64882204e+02,  6.18131472e+00,  1.86979562e+02,\n",
       "       -1.13550752e+02, -3.21624357e+00,  1.14857739e+01,  3.86069958e+01,\n",
       "       -4.25255673e+02, -4.26219194e+01,  1.26607994e+02,  3.20614434e+02,\n",
       "        3.26888949e+02,  2.13323399e+02,  4.77443667e+01, -2.40856236e+02,\n",
       "        2.22386257e+01,  4.93109653e+01,  3.38329898e+02, -2.38937907e+02,\n",
       "        8.72285787e+01, -1.00569971e+02, -7.48924249e+01,  9.95027211e+01,\n",
       "       -2.15747297e+02,  1.20375999e+02, -2.19146288e+02,  1.22367661e+02,\n",
       "       -3.53544654e+02, -3.09992281e+00,  2.22319455e+02,  3.70115973e+01,\n",
       "       -1.25359359e+02,  1.36798972e+02,  5.84015636e+01,  8.68419550e+01,\n",
       "       -9.35741415e+00,  2.48110238e+01,  1.59981737e+01, -2.29093960e+02,\n",
       "        4.49884428e+02,  5.38430241e+00, -2.46278201e+02,  1.78374657e+02,\n",
       "        1.16139902e+02, -1.69307197e+01, -1.18404889e+01,  1.55448833e+02,\n",
       "        2.31331648e+02, -9.52763265e+01,  4.40821954e+01,  1.85601197e+02,\n",
       "       -1.20787123e+02, -2.74718696e+02, -1.19989728e+02, -7.93862856e+01,\n",
       "        5.62585832e+01,  2.82455610e+02, -9.82208725e+01, -1.10945383e+02,\n",
       "        6.33403421e+00,  5.04963482e+02, -1.67112483e+02, -7.21528894e+01,\n",
       "        3.34743384e+01, -1.77724362e+02,  3.39268056e+01,  1.37603353e+02,\n",
       "        1.37225144e+02,  1.05013794e+02, -2.34032277e+01, -1.56854540e+02,\n",
       "       -1.76559958e+02, -5.70928955e+01, -2.43622568e+02, -9.08489009e+01,\n",
       "        2.67420501e+02,  1.29870895e+02, -1.04024370e+01, -2.97822010e+01,\n",
       "        1.40024768e+02,  5.30635686e+01, -3.51454140e+01, -2.21994911e+02,\n",
       "        8.72704739e-01,  2.56721878e+02,  3.30286763e+02,  1.67529577e+02,\n",
       "        1.30449946e+02, -2.52823235e+01, -2.31038056e+02, -3.47460997e+00,\n",
       "       -2.10754024e+01, -2.15778207e+02,  1.49037259e+02, -1.02869196e+02,\n",
       "        2.43799655e+00,  3.91659161e+02,  1.70253815e+02, -1.08704827e+02,\n",
       "        1.37479670e+02,  1.64979069e+02, -7.65087103e+01, -2.48208477e+02,\n",
       "        1.29629016e+02, -9.60670227e+01,  1.75178902e+02,  1.99105545e+02,\n",
       "       -4.28807351e+01, -3.29931712e+01, -5.06759100e+02,  1.29396422e+02])"
      ]
     },
     "execution_count": 26,
     "metadata": {},
     "output_type": "execute_result"
    }
   ],
   "source": [
    "y"
   ]
  },
  {
   "cell_type": "code",
   "execution_count": 27,
   "metadata": {},
   "outputs": [],
   "source": [
    "from sklearn.model_selection import train_test_split\n",
    "X_train,X_test,y_train,y_test,=train_test_split(X,y,test_size=0.3,random_state=1)\n"
   ]
  },
  {
   "cell_type": "code",
   "execution_count": 28,
   "metadata": {},
   "outputs": [
    {
     "data": {
      "text/plain": [
       "((700, 3), (700,))"
      ]
     },
     "execution_count": 28,
     "metadata": {},
     "output_type": "execute_result"
    }
   ],
   "source": [
    "X_train.shape,y_train.shape"
   ]
  },
  {
   "cell_type": "code",
   "execution_count": 44,
   "metadata": {},
   "outputs": [],
   "source": [
    "from sklearn.neighbors import KNeighborsRegressor\n",
    "reg=KNeighborsRegressor()"
   ]
  },
  {
   "cell_type": "code",
   "execution_count": 45,
   "metadata": {},
   "outputs": [
    {
     "data": {
      "text/html": [
       "<style>#sk-container-id-7 {color: black;}#sk-container-id-7 pre{padding: 0;}#sk-container-id-7 div.sk-toggleable {background-color: white;}#sk-container-id-7 label.sk-toggleable__label {cursor: pointer;display: block;width: 100%;margin-bottom: 0;padding: 0.3em;box-sizing: border-box;text-align: center;}#sk-container-id-7 label.sk-toggleable__label-arrow:before {content: \"▸\";float: left;margin-right: 0.25em;color: #696969;}#sk-container-id-7 label.sk-toggleable__label-arrow:hover:before {color: black;}#sk-container-id-7 div.sk-estimator:hover label.sk-toggleable__label-arrow:before {color: black;}#sk-container-id-7 div.sk-toggleable__content {max-height: 0;max-width: 0;overflow: hidden;text-align: left;background-color: #f0f8ff;}#sk-container-id-7 div.sk-toggleable__content pre {margin: 0.2em;color: black;border-radius: 0.25em;background-color: #f0f8ff;}#sk-container-id-7 input.sk-toggleable__control:checked~div.sk-toggleable__content {max-height: 200px;max-width: 100%;overflow: auto;}#sk-container-id-7 input.sk-toggleable__control:checked~label.sk-toggleable__label-arrow:before {content: \"▾\";}#sk-container-id-7 div.sk-estimator input.sk-toggleable__control:checked~label.sk-toggleable__label {background-color: #d4ebff;}#sk-container-id-7 div.sk-label input.sk-toggleable__control:checked~label.sk-toggleable__label {background-color: #d4ebff;}#sk-container-id-7 input.sk-hidden--visually {border: 0;clip: rect(1px 1px 1px 1px);clip: rect(1px, 1px, 1px, 1px);height: 1px;margin: -1px;overflow: hidden;padding: 0;position: absolute;width: 1px;}#sk-container-id-7 div.sk-estimator {font-family: monospace;background-color: #f0f8ff;border: 1px dotted black;border-radius: 0.25em;box-sizing: border-box;margin-bottom: 0.5em;}#sk-container-id-7 div.sk-estimator:hover {background-color: #d4ebff;}#sk-container-id-7 div.sk-parallel-item::after {content: \"\";width: 100%;border-bottom: 1px solid gray;flex-grow: 1;}#sk-container-id-7 div.sk-label:hover label.sk-toggleable__label {background-color: #d4ebff;}#sk-container-id-7 div.sk-serial::before {content: \"\";position: absolute;border-left: 1px solid gray;box-sizing: border-box;top: 0;bottom: 0;left: 50%;z-index: 0;}#sk-container-id-7 div.sk-serial {display: flex;flex-direction: column;align-items: center;background-color: white;padding-right: 0.2em;padding-left: 0.2em;position: relative;}#sk-container-id-7 div.sk-item {position: relative;z-index: 1;}#sk-container-id-7 div.sk-parallel {display: flex;align-items: stretch;justify-content: center;background-color: white;position: relative;}#sk-container-id-7 div.sk-item::before, #sk-container-id-7 div.sk-parallel-item::before {content: \"\";position: absolute;border-left: 1px solid gray;box-sizing: border-box;top: 0;bottom: 0;left: 50%;z-index: -1;}#sk-container-id-7 div.sk-parallel-item {display: flex;flex-direction: column;z-index: 1;position: relative;background-color: white;}#sk-container-id-7 div.sk-parallel-item:first-child::after {align-self: flex-end;width: 50%;}#sk-container-id-7 div.sk-parallel-item:last-child::after {align-self: flex-start;width: 50%;}#sk-container-id-7 div.sk-parallel-item:only-child::after {width: 0;}#sk-container-id-7 div.sk-dashed-wrapped {border: 1px dashed gray;margin: 0 0.4em 0.5em 0.4em;box-sizing: border-box;padding-bottom: 0.4em;background-color: white;}#sk-container-id-7 div.sk-label label {font-family: monospace;font-weight: bold;display: inline-block;line-height: 1.2em;}#sk-container-id-7 div.sk-label-container {text-align: center;}#sk-container-id-7 div.sk-container {/* jupyter's `normalize.less` sets `[hidden] { display: none; }` but bootstrap.min.css set `[hidden] { display: none !important; }` so we also need the `!important` here to be able to override the default hidden behavior on the sphinx rendered scikit-learn.org. See: https://github.com/scikit-learn/scikit-learn/issues/21755 */display: inline-block !important;position: relative;}#sk-container-id-7 div.sk-text-repr-fallback {display: none;}</style><div id=\"sk-container-id-7\" class=\"sk-top-container\"><div class=\"sk-text-repr-fallback\"><pre>KNeighborsRegressor()</pre><b>In a Jupyter environment, please rerun this cell to show the HTML representation or trust the notebook. <br />On GitHub, the HTML representation is unable to render, please try loading this page with nbviewer.org.</b></div><div class=\"sk-container\" hidden><div class=\"sk-item\"><div class=\"sk-estimator sk-toggleable\"><input class=\"sk-toggleable__control sk-hidden--visually\" id=\"sk-estimator-id-11\" type=\"checkbox\" checked><label for=\"sk-estimator-id-11\" class=\"sk-toggleable__label sk-toggleable__label-arrow\">KNeighborsRegressor</label><div class=\"sk-toggleable__content\"><pre>KNeighborsRegressor()</pre></div></div></div></div></div>"
      ],
      "text/plain": [
       "KNeighborsRegressor()"
      ]
     },
     "execution_count": 45,
     "metadata": {},
     "output_type": "execute_result"
    }
   ],
   "source": [
    "reg"
   ]
  },
  {
   "cell_type": "code",
   "execution_count": 48,
   "metadata": {},
   "outputs": [
    {
     "data": {
      "text/html": [
       "<style>#sk-container-id-9 {color: black;}#sk-container-id-9 pre{padding: 0;}#sk-container-id-9 div.sk-toggleable {background-color: white;}#sk-container-id-9 label.sk-toggleable__label {cursor: pointer;display: block;width: 100%;margin-bottom: 0;padding: 0.3em;box-sizing: border-box;text-align: center;}#sk-container-id-9 label.sk-toggleable__label-arrow:before {content: \"▸\";float: left;margin-right: 0.25em;color: #696969;}#sk-container-id-9 label.sk-toggleable__label-arrow:hover:before {color: black;}#sk-container-id-9 div.sk-estimator:hover label.sk-toggleable__label-arrow:before {color: black;}#sk-container-id-9 div.sk-toggleable__content {max-height: 0;max-width: 0;overflow: hidden;text-align: left;background-color: #f0f8ff;}#sk-container-id-9 div.sk-toggleable__content pre {margin: 0.2em;color: black;border-radius: 0.25em;background-color: #f0f8ff;}#sk-container-id-9 input.sk-toggleable__control:checked~div.sk-toggleable__content {max-height: 200px;max-width: 100%;overflow: auto;}#sk-container-id-9 input.sk-toggleable__control:checked~label.sk-toggleable__label-arrow:before {content: \"▾\";}#sk-container-id-9 div.sk-estimator input.sk-toggleable__control:checked~label.sk-toggleable__label {background-color: #d4ebff;}#sk-container-id-9 div.sk-label input.sk-toggleable__control:checked~label.sk-toggleable__label {background-color: #d4ebff;}#sk-container-id-9 input.sk-hidden--visually {border: 0;clip: rect(1px 1px 1px 1px);clip: rect(1px, 1px, 1px, 1px);height: 1px;margin: -1px;overflow: hidden;padding: 0;position: absolute;width: 1px;}#sk-container-id-9 div.sk-estimator {font-family: monospace;background-color: #f0f8ff;border: 1px dotted black;border-radius: 0.25em;box-sizing: border-box;margin-bottom: 0.5em;}#sk-container-id-9 div.sk-estimator:hover {background-color: #d4ebff;}#sk-container-id-9 div.sk-parallel-item::after {content: \"\";width: 100%;border-bottom: 1px solid gray;flex-grow: 1;}#sk-container-id-9 div.sk-label:hover label.sk-toggleable__label {background-color: #d4ebff;}#sk-container-id-9 div.sk-serial::before {content: \"\";position: absolute;border-left: 1px solid gray;box-sizing: border-box;top: 0;bottom: 0;left: 50%;z-index: 0;}#sk-container-id-9 div.sk-serial {display: flex;flex-direction: column;align-items: center;background-color: white;padding-right: 0.2em;padding-left: 0.2em;position: relative;}#sk-container-id-9 div.sk-item {position: relative;z-index: 1;}#sk-container-id-9 div.sk-parallel {display: flex;align-items: stretch;justify-content: center;background-color: white;position: relative;}#sk-container-id-9 div.sk-item::before, #sk-container-id-9 div.sk-parallel-item::before {content: \"\";position: absolute;border-left: 1px solid gray;box-sizing: border-box;top: 0;bottom: 0;left: 50%;z-index: -1;}#sk-container-id-9 div.sk-parallel-item {display: flex;flex-direction: column;z-index: 1;position: relative;background-color: white;}#sk-container-id-9 div.sk-parallel-item:first-child::after {align-self: flex-end;width: 50%;}#sk-container-id-9 div.sk-parallel-item:last-child::after {align-self: flex-start;width: 50%;}#sk-container-id-9 div.sk-parallel-item:only-child::after {width: 0;}#sk-container-id-9 div.sk-dashed-wrapped {border: 1px dashed gray;margin: 0 0.4em 0.5em 0.4em;box-sizing: border-box;padding-bottom: 0.4em;background-color: white;}#sk-container-id-9 div.sk-label label {font-family: monospace;font-weight: bold;display: inline-block;line-height: 1.2em;}#sk-container-id-9 div.sk-label-container {text-align: center;}#sk-container-id-9 div.sk-container {/* jupyter's `normalize.less` sets `[hidden] { display: none; }` but bootstrap.min.css set `[hidden] { display: none !important; }` so we also need the `!important` here to be able to override the default hidden behavior on the sphinx rendered scikit-learn.org. See: https://github.com/scikit-learn/scikit-learn/issues/21755 */display: inline-block !important;position: relative;}#sk-container-id-9 div.sk-text-repr-fallback {display: none;}</style><div id=\"sk-container-id-9\" class=\"sk-top-container\"><div class=\"sk-text-repr-fallback\"><pre>KNeighborsRegressor()</pre><b>In a Jupyter environment, please rerun this cell to show the HTML representation or trust the notebook. <br />On GitHub, the HTML representation is unable to render, please try loading this page with nbviewer.org.</b></div><div class=\"sk-container\" hidden><div class=\"sk-item\"><div class=\"sk-estimator sk-toggleable\"><input class=\"sk-toggleable__control sk-hidden--visually\" id=\"sk-estimator-id-13\" type=\"checkbox\" checked><label for=\"sk-estimator-id-13\" class=\"sk-toggleable__label sk-toggleable__label-arrow\">KNeighborsRegressor</label><div class=\"sk-toggleable__content\"><pre>KNeighborsRegressor()</pre></div></div></div></div></div>"
      ],
      "text/plain": [
       "KNeighborsRegressor()"
      ]
     },
     "execution_count": 48,
     "metadata": {},
     "output_type": "execute_result"
    }
   ],
   "source": [
    "reg.fit(X_train,y_train)"
   ]
  },
  {
   "cell_type": "code",
   "execution_count": 49,
   "metadata": {},
   "outputs": [],
   "source": [
    "y_pred=reg.predict(X_train)"
   ]
  },
  {
   "cell_type": "code",
   "execution_count": 50,
   "metadata": {},
   "outputs": [
    {
     "data": {
      "text/plain": [
       "array([ 8.45297852e+01, -2.19233885e+02, -2.47705106e+01, -1.37735933e+02,\n",
       "       -3.33758791e+01, -1.45225414e+02, -1.70489108e+02, -1.41235178e+01,\n",
       "       -8.95601702e+01, -1.66559679e+01, -1.26632196e+00, -7.84796915e+00,\n",
       "        2.20179444e+02,  4.26233216e+02,  1.11604363e+02, -2.19000616e+01,\n",
       "        1.16958518e+02, -5.78683252e+00,  2.52120292e+02, -1.50291515e+02,\n",
       "        1.08607557e+01, -2.51661328e+02,  4.30718591e+01,  1.10488777e+02,\n",
       "        1.36972411e+02,  2.14644438e+02, -7.41358934e+01,  1.26528119e+02,\n",
       "       -1.41365313e+02, -4.23039058e+01,  7.47049948e+01, -1.35302859e+02,\n",
       "        1.19235993e+02, -2.13245735e+02,  1.01199190e+01, -1.15302617e+02,\n",
       "        1.47392080e+01, -5.26857213e+01, -2.18934083e+02,  6.91944886e+01,\n",
       "        7.10591758e+01, -1.95403552e+02, -1.13896939e+02,  1.05080995e+02,\n",
       "        1.77999380e+02,  6.97918619e+00,  5.52948695e+01, -8.50323076e+01,\n",
       "       -5.60089637e+01,  9.81199241e+01,  1.87079775e+02,  1.03275363e+02,\n",
       "        1.65607181e+02, -4.86837730e+00,  1.32416265e+02, -2.21261077e+02,\n",
       "       -2.63920109e+02,  3.36281940e+00,  2.16504219e+02, -7.43194804e+01,\n",
       "        1.70287137e+02, -1.26363943e+02, -1.39254724e+02,  1.05835001e+01,\n",
       "        1.10007355e+01,  6.87773089e+00, -5.85663334e+01, -1.78905336e+02,\n",
       "        1.31622913e+02,  1.28081794e+02,  4.46601394e+01, -4.35728901e+01,\n",
       "        9.23203317e+01, -1.83440013e+01, -4.92413976e+00,  1.51782206e+00,\n",
       "       -2.43008934e+02,  5.78691723e+01, -1.81355236e+02, -1.72076792e+02,\n",
       "        3.41497673e+01, -9.18160167e+01,  9.80956544e+01,  1.55270035e+02,\n",
       "        1.81466133e+01, -2.77123180e+02, -1.01212485e+02,  4.46913675e+01,\n",
       "        2.11490324e+01, -8.88605264e+01,  1.20931583e+02,  2.38370535e+02,\n",
       "       -1.84802871e+02, -1.98150868e+02,  8.45297852e+01, -1.43088111e+02,\n",
       "       -1.37246929e+02,  4.93856471e+01, -2.62936119e+02, -1.02525234e+02,\n",
       "        1.36244904e+02, -2.38576031e+01, -1.75574884e+02, -3.23864395e+01,\n",
       "       -2.19288183e+02,  1.09548684e+01,  1.54215540e+02,  2.20179444e+02,\n",
       "       -1.21864179e+02, -1.03487387e+02, -2.09071375e+02, -1.94262735e+02,\n",
       "       -1.49566035e+01, -8.31436151e+01,  1.25348426e+02,  1.34537828e+01,\n",
       "        2.44153480e+01, -2.09734268e+01, -1.12932999e+02,  2.13668268e+02,\n",
       "        7.77494954e-01,  1.20570120e+02,  1.92872414e+02, -1.81478269e+02,\n",
       "        2.70171524e+02, -8.56868507e+01, -9.44080661e+01, -8.94990427e+01,\n",
       "        4.27159135e+01,  8.34519371e+01, -1.85381095e+02, -7.84796915e+00,\n",
       "        2.10487246e+02, -7.79447868e+01,  1.36972174e+02, -3.85277796e+01,\n",
       "       -7.54889360e+01, -7.20243581e+01, -1.54413899e+02,  1.49830972e+02,\n",
       "       -1.30144051e+02,  1.59618459e+02,  1.05080995e+02, -1.45909551e+02,\n",
       "        6.28009882e+01,  3.29869973e+01,  2.95384346e+01, -2.66399630e-01,\n",
       "        1.53123457e+02, -5.81383311e+01, -8.00289125e+01, -8.17789979e+01,\n",
       "       -4.98083234e+01,  2.42532585e+02,  1.05180397e+02, -1.08735045e+02,\n",
       "       -1.54166327e+02,  6.81457741e+00, -6.62476842e+00, -7.92317034e+01,\n",
       "       -7.12546056e+01, -1.09926118e+02,  3.81641104e+01,  3.27865880e+02,\n",
       "       -9.31925347e+01,  3.02785211e+01, -8.39281006e+01,  1.49052075e+02,\n",
       "       -4.36419592e+00, -4.86837730e+00, -1.05927767e+02, -1.23071673e+02,\n",
       "        1.04787524e+02,  2.49777863e+01,  3.42118900e+01,  3.11054979e+01,\n",
       "        2.28621026e+01,  6.06189114e+01,  1.06746078e+02, -1.85155593e+02,\n",
       "        1.04516177e+02, -9.56678434e+01,  8.72651201e+01, -7.38744175e+01,\n",
       "       -7.99517995e+01, -3.68063801e+00,  2.18979514e+02,  8.26800580e+01,\n",
       "        9.57001454e+01,  1.93905240e+02,  9.42308057e+01,  1.37592653e+02,\n",
       "       -8.07087100e+01, -2.58761467e+01,  2.98908061e+01, -2.46124151e+02,\n",
       "       -1.53305598e+02, -1.06377565e+02, -9.70016133e+01,  1.58945773e+02,\n",
       "        7.89097809e+01,  1.20931583e+02,  2.03127987e+01,  8.96364131e+01,\n",
       "        3.86766387e+01, -2.35473949e+02, -3.84513828e+01, -2.09621670e+02,\n",
       "       -1.15302617e+02,  1.64978783e+02, -1.24636695e+00,  8.06702505e+00,\n",
       "        1.85725973e+01, -3.47713192e+01,  1.69510796e+02,  1.41657419e+01,\n",
       "        2.51156698e+01, -7.12546056e+01,  4.27901517e+01, -1.10983047e+01,\n",
       "        2.48916944e+02,  8.53648523e+01,  1.10721664e+02, -2.88385674e+02,\n",
       "       -1.34560795e+02,  2.51435153e+01,  3.35262484e+01, -3.19903379e+01,\n",
       "       -4.94242142e+01, -2.38215490e+01,  2.97445400e+00, -1.93302166e+02,\n",
       "       -5.16368023e+01,  1.62297033e+02, -2.61296691e+02,  1.19017507e+02,\n",
       "       -8.58351854e+01,  4.68083678e+01,  1.30947452e+02, -1.83548512e+01,\n",
       "        1.89659128e+02, -1.71411434e+02,  9.05585220e+01,  1.92173294e+02,\n",
       "       -9.25646018e+01, -5.87201203e+01, -2.59119928e+02, -1.54868300e+02,\n",
       "        1.72630653e+02,  1.09877512e+01,  1.04516177e+02,  9.65722078e+01,\n",
       "       -5.50023922e+01, -2.79817936e+01,  5.10906197e+01, -8.86858085e+00,\n",
       "       -2.38905249e+02,  4.59148250e+01,  1.02577465e+02, -7.84570797e-01,\n",
       "        1.25828238e+02,  2.95384346e+01, -1.49566035e+01, -8.59468275e+00,\n",
       "        1.40584274e+02, -2.33937468e+02, -1.22414651e+02, -9.30618417e+00,\n",
       "       -3.95479906e+01,  3.62867071e+01, -6.92207262e+01, -8.94990427e+01,\n",
       "       -3.78552486e+01, -1.82860417e+02,  5.05279362e+01,  1.42146729e+02,\n",
       "        2.56557547e+01,  1.08912961e+02, -3.57526373e+01, -6.37727245e+01,\n",
       "        1.33887493e+02, -4.74217852e+00, -5.24203961e+01,  6.28009882e+01,\n",
       "       -4.69288070e+01, -8.85488889e+01, -2.44680082e+02, -7.22658272e+01,\n",
       "       -1.24636695e+00, -1.12534826e+01,  4.14630721e+01,  3.49152487e+01,\n",
       "        5.56314592e+01, -3.04160435e+01, -6.27627484e+01,  1.25206453e+02,\n",
       "       -2.61296691e+02, -1.08095906e+02, -8.58351854e+01, -1.81321284e+02,\n",
       "       -3.04022670e+01,  4.93856471e+01,  1.41248514e+02,  2.20778891e+01,\n",
       "        1.94347233e+02,  2.12357486e+02,  9.79736837e-01, -1.20290873e+02,\n",
       "        9.08249077e+00,  1.07797636e+02,  1.40944646e+02,  1.62691751e+02,\n",
       "        6.65704048e-01,  2.61499025e+02,  6.50470311e+01, -9.48528360e+01,\n",
       "        6.98362361e+01, -1.97159231e+02,  9.74841562e+01,  5.19305770e+00,\n",
       "        2.50317853e+02,  1.04754977e+02,  4.59319907e+01,  1.72630653e+02,\n",
       "       -4.86837730e+00, -4.25449496e+01, -5.00191629e+01, -2.35985843e+02,\n",
       "        2.96103718e+02,  1.16767044e+02,  2.05874506e-01,  1.65136169e+02,\n",
       "       -7.20803954e+01,  3.26259507e+02,  1.91253683e+02,  2.83892817e+01,\n",
       "        9.31553627e+01, -9.19130136e+01,  1.77507037e+01,  9.23203317e+01,\n",
       "       -1.05602809e+01,  1.33722564e+02, -5.63651813e+01, -6.18424475e+01,\n",
       "       -1.06106765e+02,  6.59459886e+01, -1.22414651e+02,  3.02206547e+01,\n",
       "        6.02099585e+01, -2.27856215e+02, -9.61469275e+01, -1.24791704e+02,\n",
       "        1.38771461e+02, -1.41235178e+01,  1.02870480e+02, -1.73883561e+02,\n",
       "        1.13764210e+02,  5.83135108e+01,  9.80956544e+01,  5.82544242e+00,\n",
       "       -1.55590525e+02, -1.81355236e+02,  1.27535111e+02, -2.12045624e+02,\n",
       "        9.05585220e+01,  1.18786602e+02,  9.23203317e+01, -1.32831468e+02,\n",
       "        4.55837304e+01,  4.40875514e+01,  2.14340739e+01, -1.09819781e+02,\n",
       "       -1.20507149e+02,  1.70298855e+02, -9.98823298e-01, -5.12975616e+01,\n",
       "       -6.27895668e+01, -9.43426158e+01,  1.53438940e+01,  1.81802539e+01,\n",
       "        2.10180242e+02, -1.30144051e+02,  4.50990545e+01, -9.65966068e+00,\n",
       "       -8.32497949e+00, -5.91812560e+01,  1.76511454e+02,  5.74493662e+01,\n",
       "       -1.95792795e+01,  1.24975610e+02, -4.21158387e+00,  1.45618607e+02,\n",
       "       -5.60089637e+01,  1.03680497e+02,  6.92854602e+01,  2.41969080e-01,\n",
       "        1.58969795e+02, -1.66465081e+02, -2.85644718e+02,  1.31406208e+02,\n",
       "        9.81199241e+01,  2.54326460e+02,  1.51290886e+02, -8.71851718e+01,\n",
       "        2.07959345e+02, -7.35282777e+01,  1.81466133e+01,  8.51185335e+01,\n",
       "       -1.00612090e+02, -1.38539292e+02,  1.49953188e+02,  2.16514937e+02,\n",
       "        1.72630653e+02,  2.49777863e+01,  1.99018466e+02,  1.05180397e+02,\n",
       "       -1.14823978e+02, -2.35473949e+02,  7.11480020e+00, -2.62233098e+02,\n",
       "        1.54375927e+02, -3.84513828e+01, -1.56945459e+02,  1.94347233e+02,\n",
       "        1.70445910e+01,  1.06084923e+02,  2.16250224e+02, -2.11455587e+02,\n",
       "       -2.71988743e+02,  2.98844855e+01,  1.72630653e+02, -8.69130107e+01,\n",
       "        1.20867727e+02,  1.10607770e+02, -2.13309269e+02, -4.33638059e+02,\n",
       "       -2.32741316e+02, -6.22891177e+01, -1.03161688e+01, -1.15458660e+02,\n",
       "        2.24132888e+02, -1.21838030e+02,  1.41686015e+02, -1.90654844e+02,\n",
       "       -7.56299536e+01,  1.98297374e+01,  3.52950523e+01, -8.94990427e+01,\n",
       "        1.68354850e+02,  3.83255696e+01, -9.71360403e+00,  2.44724808e+01,\n",
       "       -8.30097024e+01,  3.27865880e+02, -1.09964271e+02, -2.14080354e+01,\n",
       "        4.85977914e+01,  1.15359147e+02, -7.93039531e+01,  1.93046675e+02,\n",
       "       -2.30569503e+02,  2.44488966e+02, -1.00313533e+02,  1.87696643e+02,\n",
       "        2.15999971e+02, -7.33399761e+01,  3.66505139e+00,  1.34292245e+02,\n",
       "        1.46412421e+02,  6.76095936e+01,  8.52816730e+01, -2.27054093e+02,\n",
       "       -2.36172983e+02, -1.34417603e+02,  7.05389466e+01, -1.39079154e+02,\n",
       "       -7.24499932e+01, -2.12642464e+01,  2.11394936e+02, -1.98445194e+02,\n",
       "        2.50431783e+02,  2.57936570e+02, -9.72920404e+01,  7.16394858e+01,\n",
       "        8.53648523e+01, -7.38596681e+01, -1.40946362e+02,  1.02577465e+02,\n",
       "       -1.16882013e+02, -2.44672421e+02,  1.02577465e+02,  1.24350254e+02,\n",
       "       -2.62602693e+02, -7.55328658e+01,  1.55622987e+02, -1.28445096e+01,\n",
       "        2.31972761e+02, -7.43194804e+01, -1.22278231e+01, -9.36785694e+01,\n",
       "       -8.71851718e+01, -1.12669605e+02, -2.78260209e+01, -5.61026662e+01,\n",
       "       -6.19578835e+01, -1.71624210e+01,  1.33577921e+02, -8.06329543e+01,\n",
       "        6.24457192e+01,  2.54326460e+02, -1.81958727e+02,  1.34292245e+02,\n",
       "        7.45661351e+00, -2.13162017e+02, -8.24541512e+01, -9.39292177e+00,\n",
       "        3.75377600e+02,  5.98923447e+01, -3.84513828e+01, -8.40331834e+01,\n",
       "        2.61499025e+02,  2.62756289e+02, -1.14703976e+02, -1.62201193e+02,\n",
       "       -7.73097848e+01, -1.71624210e+01, -1.47868545e+01, -9.19130136e+01,\n",
       "       -8.77946616e+01,  9.80956544e+01, -2.12897082e+02,  3.25195334e+01,\n",
       "       -1.18844301e+02,  3.76543219e+01, -7.80250615e+01,  2.46321120e+02,\n",
       "        1.31495680e+02, -8.01569890e+00, -9.70016133e+01, -8.94990427e+01,\n",
       "        4.16747423e+01,  2.53726195e+02, -2.14080354e+01, -9.61234876e+01,\n",
       "       -7.62817060e+01, -3.30501536e+01, -5.77592876e+01, -2.20645679e+02,\n",
       "       -3.00070345e+01, -4.56702429e+01, -1.87685291e+02,  3.11054979e+01,\n",
       "        2.20083881e+02,  1.29777808e+02,  5.60233662e+01,  2.10255776e+02,\n",
       "        1.12500160e+02,  1.45831863e+02,  1.20825466e+01, -2.12642464e+01,\n",
       "       -2.80946185e+02, -2.34634172e+02,  2.26983445e+02, -5.80974936e+01,\n",
       "       -6.67257218e+01, -2.61296691e+02, -8.30669931e-01, -1.68799037e+02,\n",
       "        1.27987765e+02,  3.62765724e+01,  1.05080995e+02,  2.09199301e+02,\n",
       "       -1.05111877e+02, -2.42070132e+02,  9.23203317e+01, -3.65062972e+01,\n",
       "       -1.18295130e+02,  2.18352061e+01, -2.57768379e+02, -1.29466483e+02,\n",
       "        1.17165401e+02,  1.33061108e+02, -1.58429166e+02, -1.55147261e+02,\n",
       "       -8.77807672e+01,  3.27376064e+00, -2.05803758e+01,  1.43209894e+02,\n",
       "        3.91967236e+02,  1.17396170e+02,  2.48874536e+02,  2.03143266e+02,\n",
       "        1.28320820e+02, -7.56202202e+01,  3.32435390e+01, -1.97755388e+02,\n",
       "       -5.53763169e+01, -7.10159491e+01, -9.42210184e+01,  2.90857294e+02,\n",
       "        3.69413804e+01, -8.17048177e+01, -1.16622316e+02,  2.40350431e+02,\n",
       "       -1.50991627e+02, -9.45630583e+01, -5.98066623e+01, -1.34929273e+02,\n",
       "        1.55270035e+02, -9.33243052e+00,  1.45542435e+02,  7.47049948e+01,\n",
       "       -1.06760006e+02, -1.38895458e+01, -2.76239341e+02, -2.71249691e+02,\n",
       "        1.44703113e+02, -2.01645622e+02, -6.69596954e+00, -7.90257986e+01,\n",
       "        1.72277034e+02, -1.36065896e+02,  1.01611301e+02,  1.77976914e+02,\n",
       "        1.02577465e+02, -1.29011972e+02,  2.11560043e+02,  1.18123695e+02,\n",
       "        1.48249021e+02,  7.90592744e+00,  1.12419629e+02,  1.72277034e+02,\n",
       "       -3.32671602e+01,  2.47343945e+01,  1.27533767e+02,  4.83195650e+01,\n",
       "       -2.39130633e+02,  1.37685945e+02, -1.31493064e+01, -1.24520001e+01,\n",
       "       -2.27414000e+02, -4.55204191e+01,  8.34519371e+01, -8.73446273e+00,\n",
       "        2.74757276e+02, -1.67397404e+02,  3.11064699e+02,  4.23462533e+01,\n",
       "        7.24417295e+01,  1.31918942e+02, -2.44672421e+02, -6.76543148e+01,\n",
       "        1.82580588e+02, -4.33638059e+02, -1.87922096e+02,  1.09548684e+01,\n",
       "        1.40891921e+02,  1.39561271e+02,  1.38966956e+00,  1.77649464e+01,\n",
       "        2.09679701e+01, -2.69258604e+01, -7.65235472e+01, -1.25596795e+02,\n",
       "       -1.34225254e+02,  5.71019711e+01,  1.87842594e+02, -2.49621713e+02,\n",
       "        1.54970530e+02,  1.10803951e+02, -6.47367827e+01,  2.76718744e+01,\n",
       "        1.37361326e+02,  6.65704048e-01, -1.15965799e+02, -2.08660672e+02,\n",
       "       -1.59306638e+02, -2.07399235e+02,  1.15916949e+02, -2.12493717e+02,\n",
       "        1.86896729e+02, -1.20996543e+02, -4.33638059e+02,  3.09149167e+02,\n",
       "       -4.89493661e+01,  9.52980774e+01, -1.88780690e+02,  2.18232980e+01,\n",
       "       -8.88532884e+01,  1.40891921e+02, -1.95403552e+02,  3.34033514e-01,\n",
       "       -9.96040172e+01, -2.70199395e+02,  4.40875514e+01,  1.06991691e+02,\n",
       "       -1.04139836e+01,  8.97842578e+01, -1.09374423e+02, -4.98179038e+01])"
      ]
     },
     "execution_count": 50,
     "metadata": {},
     "output_type": "execute_result"
    }
   ],
   "source": [
    "y_pred"
   ]
  },
  {
   "cell_type": "code",
   "execution_count": 32,
   "metadata": {},
   "outputs": [],
   "source": [
    "params_grid={\"n_nebihours\":[3,5,6,7,10,12,15],\n",
    "             'algrothims':['ball tree','brute','kd tree'],\n",
    "             'leaf_size':20}"
   ]
  },
  {
   "cell_type": "code",
   "execution_count": 33,
   "metadata": {},
   "outputs": [
    {
     "data": {
      "text/plain": [
       "{'n_nebihours': [3, 5, 6, 7, 10, 12, 15],\n",
       " 'algrothims': ['ball tree', 'brute', 'kd tree'],\n",
       " 'leaf_size': 20}"
      ]
     },
     "execution_count": 33,
     "metadata": {},
     "output_type": "execute_result"
    }
   ],
   "source": [
    "params_grid"
   ]
  },
  {
   "cell_type": "code",
   "execution_count": 34,
   "metadata": {},
   "outputs": [
    {
     "data": {
      "text/plain": [
       "{'n_nebihours': [3, 5, 6, 7, 10, 12, 15],\n",
       " 'algrothims': ['ball tree', 'brute', 'kd tree'],\n",
       " 'leaf_size': 20}"
      ]
     },
     "execution_count": 34,
     "metadata": {},
     "output_type": "execute_result"
    }
   ],
   "source": [
    "params_grid"
   ]
  },
  {
   "cell_type": "code",
   "execution_count": 35,
   "metadata": {},
   "outputs": [
    {
     "data": {
      "text/html": [
       "<style>#sk-container-id-5 {color: black;}#sk-container-id-5 pre{padding: 0;}#sk-container-id-5 div.sk-toggleable {background-color: white;}#sk-container-id-5 label.sk-toggleable__label {cursor: pointer;display: block;width: 100%;margin-bottom: 0;padding: 0.3em;box-sizing: border-box;text-align: center;}#sk-container-id-5 label.sk-toggleable__label-arrow:before {content: \"▸\";float: left;margin-right: 0.25em;color: #696969;}#sk-container-id-5 label.sk-toggleable__label-arrow:hover:before {color: black;}#sk-container-id-5 div.sk-estimator:hover label.sk-toggleable__label-arrow:before {color: black;}#sk-container-id-5 div.sk-toggleable__content {max-height: 0;max-width: 0;overflow: hidden;text-align: left;background-color: #f0f8ff;}#sk-container-id-5 div.sk-toggleable__content pre {margin: 0.2em;color: black;border-radius: 0.25em;background-color: #f0f8ff;}#sk-container-id-5 input.sk-toggleable__control:checked~div.sk-toggleable__content {max-height: 200px;max-width: 100%;overflow: auto;}#sk-container-id-5 input.sk-toggleable__control:checked~label.sk-toggleable__label-arrow:before {content: \"▾\";}#sk-container-id-5 div.sk-estimator input.sk-toggleable__control:checked~label.sk-toggleable__label {background-color: #d4ebff;}#sk-container-id-5 div.sk-label input.sk-toggleable__control:checked~label.sk-toggleable__label {background-color: #d4ebff;}#sk-container-id-5 input.sk-hidden--visually {border: 0;clip: rect(1px 1px 1px 1px);clip: rect(1px, 1px, 1px, 1px);height: 1px;margin: -1px;overflow: hidden;padding: 0;position: absolute;width: 1px;}#sk-container-id-5 div.sk-estimator {font-family: monospace;background-color: #f0f8ff;border: 1px dotted black;border-radius: 0.25em;box-sizing: border-box;margin-bottom: 0.5em;}#sk-container-id-5 div.sk-estimator:hover {background-color: #d4ebff;}#sk-container-id-5 div.sk-parallel-item::after {content: \"\";width: 100%;border-bottom: 1px solid gray;flex-grow: 1;}#sk-container-id-5 div.sk-label:hover label.sk-toggleable__label {background-color: #d4ebff;}#sk-container-id-5 div.sk-serial::before {content: \"\";position: absolute;border-left: 1px solid gray;box-sizing: border-box;top: 0;bottom: 0;left: 50%;z-index: 0;}#sk-container-id-5 div.sk-serial {display: flex;flex-direction: column;align-items: center;background-color: white;padding-right: 0.2em;padding-left: 0.2em;position: relative;}#sk-container-id-5 div.sk-item {position: relative;z-index: 1;}#sk-container-id-5 div.sk-parallel {display: flex;align-items: stretch;justify-content: center;background-color: white;position: relative;}#sk-container-id-5 div.sk-item::before, #sk-container-id-5 div.sk-parallel-item::before {content: \"\";position: absolute;border-left: 1px solid gray;box-sizing: border-box;top: 0;bottom: 0;left: 50%;z-index: -1;}#sk-container-id-5 div.sk-parallel-item {display: flex;flex-direction: column;z-index: 1;position: relative;background-color: white;}#sk-container-id-5 div.sk-parallel-item:first-child::after {align-self: flex-end;width: 50%;}#sk-container-id-5 div.sk-parallel-item:last-child::after {align-self: flex-start;width: 50%;}#sk-container-id-5 div.sk-parallel-item:only-child::after {width: 0;}#sk-container-id-5 div.sk-dashed-wrapped {border: 1px dashed gray;margin: 0 0.4em 0.5em 0.4em;box-sizing: border-box;padding-bottom: 0.4em;background-color: white;}#sk-container-id-5 div.sk-label label {font-family: monospace;font-weight: bold;display: inline-block;line-height: 1.2em;}#sk-container-id-5 div.sk-label-container {text-align: center;}#sk-container-id-5 div.sk-container {/* jupyter's `normalize.less` sets `[hidden] { display: none; }` but bootstrap.min.css set `[hidden] { display: none !important; }` so we also need the `!important` here to be able to override the default hidden behavior on the sphinx rendered scikit-learn.org. See: https://github.com/scikit-learn/scikit-learn/issues/21755 */display: inline-block !important;position: relative;}#sk-container-id-5 div.sk-text-repr-fallback {display: none;}</style><div id=\"sk-container-id-5\" class=\"sk-top-container\"><div class=\"sk-text-repr-fallback\"><pre>GridSearchCV(cv=5, estimator=KNeighborsClassifier(),\n",
       "             param_grid={&#x27;algrothims&#x27;: [&#x27;ball tree&#x27;, &#x27;brute&#x27;, &#x27;kd tree&#x27;],\n",
       "                         &#x27;leaf_size&#x27;: 20,\n",
       "                         &#x27;n_nebihours&#x27;: [3, 5, 6, 7, 10, 12, 15]},\n",
       "             verbose=5)</pre><b>In a Jupyter environment, please rerun this cell to show the HTML representation or trust the notebook. <br />On GitHub, the HTML representation is unable to render, please try loading this page with nbviewer.org.</b></div><div class=\"sk-container\" hidden><div class=\"sk-item sk-dashed-wrapped\"><div class=\"sk-label-container\"><div class=\"sk-label sk-toggleable\"><input class=\"sk-toggleable__control sk-hidden--visually\" id=\"sk-estimator-id-7\" type=\"checkbox\" ><label for=\"sk-estimator-id-7\" class=\"sk-toggleable__label sk-toggleable__label-arrow\">GridSearchCV</label><div class=\"sk-toggleable__content\"><pre>GridSearchCV(cv=5, estimator=KNeighborsClassifier(),\n",
       "             param_grid={&#x27;algrothims&#x27;: [&#x27;ball tree&#x27;, &#x27;brute&#x27;, &#x27;kd tree&#x27;],\n",
       "                         &#x27;leaf_size&#x27;: 20,\n",
       "                         &#x27;n_nebihours&#x27;: [3, 5, 6, 7, 10, 12, 15]},\n",
       "             verbose=5)</pre></div></div></div><div class=\"sk-parallel\"><div class=\"sk-parallel-item\"><div class=\"sk-item\"><div class=\"sk-label-container\"><div class=\"sk-label sk-toggleable\"><input class=\"sk-toggleable__control sk-hidden--visually\" id=\"sk-estimator-id-8\" type=\"checkbox\" ><label for=\"sk-estimator-id-8\" class=\"sk-toggleable__label sk-toggleable__label-arrow\">estimator: KNeighborsClassifier</label><div class=\"sk-toggleable__content\"><pre>KNeighborsClassifier()</pre></div></div></div><div class=\"sk-serial\"><div class=\"sk-item\"><div class=\"sk-estimator sk-toggleable\"><input class=\"sk-toggleable__control sk-hidden--visually\" id=\"sk-estimator-id-9\" type=\"checkbox\" ><label for=\"sk-estimator-id-9\" class=\"sk-toggleable__label sk-toggleable__label-arrow\">KNeighborsClassifier</label><div class=\"sk-toggleable__content\"><pre>KNeighborsClassifier()</pre></div></div></div></div></div></div></div></div></div></div>"
      ],
      "text/plain": [
       "GridSearchCV(cv=5, estimator=KNeighborsClassifier(),\n",
       "             param_grid={'algrothims': ['ball tree', 'brute', 'kd tree'],\n",
       "                         'leaf_size': 20,\n",
       "                         'n_nebihours': [3, 5, 6, 7, 10, 12, 15]},\n",
       "             verbose=5)"
      ]
     },
     "execution_count": 35,
     "metadata": {},
     "output_type": "execute_result"
    }
   ],
   "source": [
    "from sklearn.model_selection import GridSearchCV\n",
    "grid=GridSearchCV(estimator=clf,param_grid=params_grid,cv=5,verbose=5)\n",
    "grid"
   ]
  },
  {
   "cell_type": "code",
   "execution_count": 36,
   "metadata": {},
   "outputs": [],
   "source": [
    "#KNN as missing value treatment\n",
    "\n"
   ]
  },
  {
   "cell_type": "code",
   "execution_count": 37,
   "metadata": {},
   "outputs": [],
   "source": [
    "from sklearn.impute import KNNImputer\n",
    "X=[[1,2,np.nan],[3,4,3],[np.nan,6,5],[8,8,7]]\n",
    "impute=KNNImputer(n_neighbors=2)\n",
    "impute.fit_transform(X)\n",
    "array=([[1. , 2. , 4. ],\n",
    "       [3. , 4. , 3. ],\n",
    "       [5.5, 6. , 5. ],\n",
    "       [8. , 8. , 7. ]])\n"
   ]
  },
  {
   "cell_type": "code",
   "execution_count": 38,
   "metadata": {},
   "outputs": [
    {
     "data": {
      "text/plain": [
       "[[1, 2, nan], [3, 4, 3], [nan, 6, 5], [8, 8, 7]]"
      ]
     },
     "execution_count": 38,
     "metadata": {},
     "output_type": "execute_result"
    }
   ],
   "source": [
    "X"
   ]
  },
  {
   "cell_type": "code",
   "execution_count": 39,
   "metadata": {},
   "outputs": [
    {
     "data": {
      "text/plain": [
       "array([[1. , 2. , 4. ],\n",
       "       [3. , 4. , 3. ],\n",
       "       [5.5, 6. , 5. ],\n",
       "       [8. , 8. , 7. ]])"
      ]
     },
     "execution_count": 39,
     "metadata": {},
     "output_type": "execute_result"
    }
   ],
   "source": [
    "impute=KNNImputer(n_neighbors=2)\n",
    "impute.fit_transform(X)\n"
   ]
  }
 ],
 "metadata": {
  "kernelspec": {
   "display_name": "base",
   "language": "python",
   "name": "python3"
  },
  "language_info": {
   "codemirror_mode": {
    "name": "ipython",
    "version": 3
   },
   "file_extension": ".py",
   "mimetype": "text/x-python",
   "name": "python",
   "nbconvert_exporter": "python",
   "pygments_lexer": "ipython3",
   "version": "3.11.5"
  }
 },
 "nbformat": 4,
 "nbformat_minor": 2
}
